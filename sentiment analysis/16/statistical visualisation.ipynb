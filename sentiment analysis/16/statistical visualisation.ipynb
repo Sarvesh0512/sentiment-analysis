{
 "cells": [
  {
   "cell_type": "code",
   "execution_count": 1,
   "metadata": {},
   "outputs": [],
   "source": [
    "import pandas as pd\n",
    "import numpy as np\n",
    "\n",
    "import matplotlib.pyplot as plt\n",
    "import seaborn as sns\n",
    "%matplotlib inline\n",
    "%config InlineBackend.figure_format = 'retina'\n",
    "\n",
    "from scipy import stats\n",
    "\n",
    "from sklearn.feature_extraction.text import CountVectorizer\n",
    "\n",
    "import warnings\n",
    "warnings.filterwarnings(\"ignore\")"
   ]
  },
  {
   "cell_type": "code",
   "execution_count": 2,
   "metadata": {},
   "outputs": [],
   "source": [
    "twitter_data = pd.read_csv('twitter_term_frequency_data.csv', encoding = \"ISO-8859-1\")"
   ]
  },
  {
   "cell_type": "code",
   "execution_count": 3,
   "metadata": {},
   "outputs": [
    {
     "data": {
      "text/html": [
       "<style type=\"text/css\">\n",
       "#T_54278_row0_col0, #T_54278_row0_col1, #T_54278_row0_col2, #T_54278_row0_col3, #T_54278_row1_col0, #T_54278_row1_col1, #T_54278_row1_col2, #T_54278_row1_col3, #T_54278_row2_col0, #T_54278_row2_col1, #T_54278_row2_col2, #T_54278_row2_col3, #T_54278_row3_col0, #T_54278_row3_col1, #T_54278_row3_col2, #T_54278_row3_col3, #T_54278_row4_col0, #T_54278_row4_col1, #T_54278_row4_col2, #T_54278_row4_col3 {\n",
       "  background-color: #E9F6E2;\n",
       "  color: black;\n",
       "  border-color: #8b8c8c;\n",
       "}\n",
       "</style>\n",
       "<table id=\"T_54278\">\n",
       "  <thead>\n",
       "    <tr>\n",
       "      <th class=\"blank level0\" >&nbsp;</th>\n",
       "      <th id=\"T_54278_level0_col0\" class=\"col_heading level0 col0\" >word</th>\n",
       "      <th id=\"T_54278_level0_col1\" class=\"col_heading level0 col1\" >negative</th>\n",
       "      <th id=\"T_54278_level0_col2\" class=\"col_heading level0 col2\" >positive</th>\n",
       "      <th id=\"T_54278_level0_col3\" class=\"col_heading level0 col3\" >total</th>\n",
       "    </tr>\n",
       "  </thead>\n",
       "  <tbody>\n",
       "    <tr>\n",
       "      <th id=\"T_54278_level0_row0\" class=\"row_heading level0 row0\" >0</th>\n",
       "      <td id=\"T_54278_row0_col0\" class=\"data row0 col0\" >aa</td>\n",
       "      <td id=\"T_54278_row0_col1\" class=\"data row0 col1\" >45</td>\n",
       "      <td id=\"T_54278_row0_col2\" class=\"data row0 col2\" >23</td>\n",
       "      <td id=\"T_54278_row0_col3\" class=\"data row0 col3\" >68</td>\n",
       "    </tr>\n",
       "    <tr>\n",
       "      <th id=\"T_54278_level0_row1\" class=\"row_heading level0 row1\" >1</th>\n",
       "      <td id=\"T_54278_row1_col0\" class=\"data row1 col0\" >aaa</td>\n",
       "      <td id=\"T_54278_row1_col1\" class=\"data row1 col1\" >23</td>\n",
       "      <td id=\"T_54278_row1_col2\" class=\"data row1 col2\" >12</td>\n",
       "      <td id=\"T_54278_row1_col3\" class=\"data row1 col3\" >35</td>\n",
       "    </tr>\n",
       "    <tr>\n",
       "      <th id=\"T_54278_level0_row2\" class=\"row_heading level0 row2\" >2</th>\n",
       "      <td id=\"T_54278_row2_col0\" class=\"data row2 col0\" >aaaa</td>\n",
       "      <td id=\"T_54278_row2_col1\" class=\"data row2 col1\" >10</td>\n",
       "      <td id=\"T_54278_row2_col2\" class=\"data row2 col2\" >6</td>\n",
       "      <td id=\"T_54278_row2_col3\" class=\"data row2 col3\" >16</td>\n",
       "    </tr>\n",
       "    <tr>\n",
       "      <th id=\"T_54278_level0_row3\" class=\"row_heading level0 row3\" >3</th>\n",
       "      <td id=\"T_54278_row3_col0\" class=\"data row3 col0\" >aaaaa</td>\n",
       "      <td id=\"T_54278_row3_col1\" class=\"data row3 col1\" >5</td>\n",
       "      <td id=\"T_54278_row3_col2\" class=\"data row3 col2\" >3</td>\n",
       "      <td id=\"T_54278_row3_col3\" class=\"data row3 col3\" >8</td>\n",
       "    </tr>\n",
       "    <tr>\n",
       "      <th id=\"T_54278_level0_row4\" class=\"row_heading level0 row4\" >4</th>\n",
       "      <td id=\"T_54278_row4_col0\" class=\"data row4 col0\" >aaaaaa</td>\n",
       "      <td id=\"T_54278_row4_col1\" class=\"data row4 col1\" >4</td>\n",
       "      <td id=\"T_54278_row4_col2\" class=\"data row4 col2\" >5</td>\n",
       "      <td id=\"T_54278_row4_col3\" class=\"data row4 col3\" >9</td>\n",
       "    </tr>\n",
       "  </tbody>\n",
       "</table>\n"
      ],
      "text/plain": [
       "<pandas.io.formats.style.Styler at 0x24ad8fd5ae0>"
      ]
     },
     "execution_count": 3,
     "metadata": {},
     "output_type": "execute_result"
    }
   ],
   "source": [
    "# Print bottom 5 rows in the dataframe.\n",
    "twitter_data.head().style.set_properties(**{'background-color': '#E9F6E2','color': 'black','border-color': '#8b8c8c'})"
   ]
  },
  {
   "cell_type": "code",
   "execution_count": 4,
   "metadata": {},
   "outputs": [],
   "source": [
    "df = twitter_data.sort_values(by='total', ascending=False)\n",
    "df = df.reset_index(drop=True)"
   ]
  },
  {
   "cell_type": "code",
   "execution_count": 6,
   "metadata": {},
   "outputs": [
    {
     "data": {
      "text/html": [
       "<style type=\"text/css\">\n",
       "#T_cbbed_row0_col0, #T_cbbed_row0_col1, #T_cbbed_row0_col2, #T_cbbed_row0_col3, #T_cbbed_row1_col0, #T_cbbed_row1_col1, #T_cbbed_row1_col2, #T_cbbed_row1_col3, #T_cbbed_row2_col0, #T_cbbed_row2_col1, #T_cbbed_row2_col2, #T_cbbed_row2_col3, #T_cbbed_row3_col0, #T_cbbed_row3_col1, #T_cbbed_row3_col2, #T_cbbed_row3_col3, #T_cbbed_row4_col0, #T_cbbed_row4_col1, #T_cbbed_row4_col2, #T_cbbed_row4_col3 {\n",
       "  background-color: #E9F6E2;\n",
       "  color: black;\n",
       "  border-color: #8b8c8c;\n",
       "}\n",
       "</style>\n",
       "<table id=\"T_cbbed\">\n",
       "  <thead>\n",
       "    <tr>\n",
       "      <th class=\"blank level0\" >&nbsp;</th>\n",
       "      <th id=\"T_cbbed_level0_col0\" class=\"col_heading level0 col0\" >word</th>\n",
       "      <th id=\"T_cbbed_level0_col1\" class=\"col_heading level0 col1\" >negative</th>\n",
       "      <th id=\"T_cbbed_level0_col2\" class=\"col_heading level0 col2\" >positive</th>\n",
       "      <th id=\"T_cbbed_level0_col3\" class=\"col_heading level0 col3\" >total</th>\n",
       "    </tr>\n",
       "  </thead>\n",
       "  <tbody>\n",
       "    <tr>\n",
       "      <th id=\"T_cbbed_level0_row0\" class=\"row_heading level0 row0\" >0</th>\n",
       "      <td id=\"T_cbbed_row0_col0\" class=\"data row0 col0\" >to</td>\n",
       "      <td id=\"T_cbbed_row0_col1\" class=\"data row0 col1\" >78026</td>\n",
       "      <td id=\"T_cbbed_row0_col2\" class=\"data row0 col2\" >63169</td>\n",
       "      <td id=\"T_cbbed_row0_col3\" class=\"data row0 col3\" >141195</td>\n",
       "    </tr>\n",
       "    <tr>\n",
       "      <th id=\"T_cbbed_level0_row1\" class=\"row_heading level0 row1\" >1</th>\n",
       "      <td id=\"T_cbbed_row1_col0\" class=\"data row1 col0\" >the</td>\n",
       "      <td id=\"T_cbbed_row1_col1\" class=\"data row1 col1\" >64676</td>\n",
       "      <td id=\"T_cbbed_row1_col2\" class=\"data row1 col2\" >66278</td>\n",
       "      <td id=\"T_cbbed_row1_col3\" class=\"data row1 col3\" >130954</td>\n",
       "    </tr>\n",
       "    <tr>\n",
       "      <th id=\"T_cbbed_level0_row2\" class=\"row_heading level0 row2\" >2</th>\n",
       "      <td id=\"T_cbbed_row2_col0\" class=\"data row2 col0\" >my</td>\n",
       "      <td id=\"T_cbbed_row2_col1\" class=\"data row2 col1\" >48048</td>\n",
       "      <td id=\"T_cbbed_row2_col2\" class=\"data row2 col2\" >31387</td>\n",
       "      <td id=\"T_cbbed_row2_col3\" class=\"data row2 col3\" >79435</td>\n",
       "    </tr>\n",
       "    <tr>\n",
       "      <th id=\"T_cbbed_level0_row3\" class=\"row_heading level0 row3\" >3</th>\n",
       "      <td id=\"T_cbbed_row3_col0\" class=\"data row3 col0\" >it</td>\n",
       "      <td id=\"T_cbbed_row3_col1\" class=\"data row3 col1\" >39520</td>\n",
       "      <td id=\"T_cbbed_row3_col2\" class=\"data row3 col2\" >36896</td>\n",
       "      <td id=\"T_cbbed_row3_col3\" class=\"data row3 col3\" >76416</td>\n",
       "    </tr>\n",
       "    <tr>\n",
       "      <th id=\"T_cbbed_level0_row4\" class=\"row_heading level0 row4\" >4</th>\n",
       "      <td id=\"T_cbbed_row4_col0\" class=\"data row4 col0\" >and</td>\n",
       "      <td id=\"T_cbbed_row4_col1\" class=\"data row4 col1\" >38529</td>\n",
       "      <td id=\"T_cbbed_row4_col2\" class=\"data row4 col2\" >37495</td>\n",
       "      <td id=\"T_cbbed_row4_col3\" class=\"data row4 col3\" >76024</td>\n",
       "    </tr>\n",
       "  </tbody>\n",
       "</table>\n"
      ],
      "text/plain": [
       "<pandas.io.formats.style.Styler at 0x24a9c4cc970>"
      ]
     },
     "execution_count": 6,
     "metadata": {},
     "output_type": "execute_result"
    }
   ],
   "source": [
    "df.head().style.set_properties(**{'background-color': '#E9F6E2','color': 'black','border-color': '#8b8c8c'})"
   ]
  },
  {
   "cell_type": "code",
   "execution_count": 7,
   "metadata": {},
   "outputs": [
    {
     "name": "stdout",
     "output_type": "stream",
     "text": [
      "The shape of data frame: (118312, 4)\n",
      "Number of Rows in the dataframe: 118312\n",
      "Number of Columns in the dataframe: 4\n"
     ]
    }
   ],
   "source": [
    "# Print the shape of the DataFrame\n",
    "print(\"The shape of data frame:\", df.shape)\n",
    "# Print the length (number of rows) of the DataFrame\n",
    "print(\"Number of Rows in the dataframe:\", len(df))\n",
    "# Print the number of columns in the DataFrame\n",
    "print(\"Number of Columns in the dataframe:\", len(df.columns))"
   ]
  },
  {
   "cell_type": "code",
   "execution_count": 8,
   "metadata": {},
   "outputs": [
    {
     "name": "stdout",
     "output_type": "stream",
     "text": [
      "<class 'pandas.core.frame.DataFrame'>\n",
      "RangeIndex: 118312 entries, 0 to 118311\n",
      "Data columns (total 4 columns):\n",
      " #   Column    Non-Null Count   Dtype \n",
      "---  ------    --------------   ----- \n",
      " 0   word      118310 non-null  object\n",
      " 1   negative  118312 non-null  int64 \n",
      " 2   positive  118312 non-null  int64 \n",
      " 3   total     118312 non-null  int64 \n",
      "dtypes: int64(3), object(1)\n",
      "memory usage: 3.6+ MB\n"
     ]
    }
   ],
   "source": [
    "twitter_data.info() "
   ]
  },
  {
   "cell_type": "code",
   "execution_count": 11,
   "metadata": {},
   "outputs": [
    {
     "data": {
      "image/png": "[encoded data removed]",
      "text/plain": [
       "<Figure size 640x480 with 1 Axes>"
      ]
     },
     "metadata": {
      "image/png": {
       "height": 418,
       "width": 558
      }
     },
     "output_type": "display_data"
    }
   ],
   "source": [
    "import seaborn as sns\n",
    "import matplotlib.pyplot as plt\n",
    "\n",
    "plt.grid(True, which='both', linestyle='--', linewidth=0.5)\n"
   ]
  },
  {
   "cell_type": "code",
   "execution_count": 13,
   "metadata": {},
   "outputs": [
    {
     "ename": "OSError",
     "evalue": "'seaborn-darkgrid' is not a valid package style, path of style file, URL of style file, or library style name (library styles are listed in `style.available`)",
     "output_type": "error",
     "traceback": [
      "\u001b[1;31m---------------------------------------------------------------------------\u001b[0m",
      "\u001b[1;31mFileNotFoundError\u001b[0m                         Traceback (most recent call last)",
      "File \u001b[1;32m~\\AppData\\Local\\Packages\\PythonSoftwareFoundation.Python.3.10_qbz5n2kfra8p0\\LocalCache\\local-packages\\Python310\\site-packages\\matplotlib\\style\\core.py:137\u001b[0m, in \u001b[0;36muse\u001b[1;34m(style)\u001b[0m\n\u001b[0;32m    136\u001b[0m \u001b[38;5;28;01mtry\u001b[39;00m:\n\u001b[1;32m--> 137\u001b[0m     style \u001b[38;5;241m=\u001b[39m \u001b[43m_rc_params_in_file\u001b[49m\u001b[43m(\u001b[49m\u001b[43mstyle\u001b[49m\u001b[43m)\u001b[49m\n\u001b[0;32m    138\u001b[0m \u001b[38;5;28;01mexcept\u001b[39;00m \u001b[38;5;167;01mOSError\u001b[39;00m \u001b[38;5;28;01mas\u001b[39;00m err:\n",
      "File \u001b[1;32m~\\AppData\\Local\\Packages\\PythonSoftwareFoundation.Python.3.10_qbz5n2kfra8p0\\LocalCache\\local-packages\\Python310\\site-packages\\matplotlib\\__init__.py:883\u001b[0m, in \u001b[0;36m_rc_params_in_file\u001b[1;34m(fname, transform, fail_on_error)\u001b[0m\n\u001b[0;32m    882\u001b[0m rc_temp \u001b[38;5;241m=\u001b[39m {}\n\u001b[1;32m--> 883\u001b[0m \u001b[38;5;28;01mwith\u001b[39;00m _open_file_or_url(fname) \u001b[38;5;28;01mas\u001b[39;00m fd:\n\u001b[0;32m    884\u001b[0m     \u001b[38;5;28;01mtry\u001b[39;00m:\n",
      "File \u001b[1;32mC:\\Program Files\\WindowsApps\\PythonSoftwareFoundation.Python.3.10_3.10.3056.0_x64__qbz5n2kfra8p0\\lib\\contextlib.py:135\u001b[0m, in \u001b[0;36m_GeneratorContextManager.__enter__\u001b[1;34m(self)\u001b[0m\n\u001b[0;32m    134\u001b[0m \u001b[38;5;28;01mtry\u001b[39;00m:\n\u001b[1;32m--> 135\u001b[0m     \u001b[38;5;28;01mreturn\u001b[39;00m \u001b[38;5;28;43mnext\u001b[39;49m\u001b[43m(\u001b[49m\u001b[38;5;28;43mself\u001b[39;49m\u001b[38;5;241;43m.\u001b[39;49m\u001b[43mgen\u001b[49m\u001b[43m)\u001b[49m\n\u001b[0;32m    136\u001b[0m \u001b[38;5;28;01mexcept\u001b[39;00m \u001b[38;5;167;01mStopIteration\u001b[39;00m:\n",
      "File \u001b[1;32m~\\AppData\\Local\\Packages\\PythonSoftwareFoundation.Python.3.10_qbz5n2kfra8p0\\LocalCache\\local-packages\\Python310\\site-packages\\matplotlib\\__init__.py:860\u001b[0m, in \u001b[0;36m_open_file_or_url\u001b[1;34m(fname)\u001b[0m\n\u001b[0;32m    859\u001b[0m fname \u001b[38;5;241m=\u001b[39m os\u001b[38;5;241m.\u001b[39mpath\u001b[38;5;241m.\u001b[39mexpanduser(fname)\n\u001b[1;32m--> 860\u001b[0m \u001b[38;5;28;01mwith\u001b[39;00m \u001b[38;5;28;43mopen\u001b[39;49m\u001b[43m(\u001b[49m\u001b[43mfname\u001b[49m\u001b[43m,\u001b[49m\u001b[43m \u001b[49m\u001b[43mencoding\u001b[49m\u001b[38;5;241;43m=\u001b[39;49m\u001b[38;5;124;43m'\u001b[39;49m\u001b[38;5;124;43mutf-8\u001b[39;49m\u001b[38;5;124;43m'\u001b[39;49m\u001b[43m)\u001b[49m \u001b[38;5;28;01mas\u001b[39;00m f:\n\u001b[0;32m    861\u001b[0m     \u001b[38;5;28;01myield\u001b[39;00m f\n",
      "\u001b[1;31mFileNotFoundError\u001b[0m: [Errno 2] No such file or directory: 'seaborn-darkgrid'",
      "\nThe above exception was the direct cause of the following exception:\n",
      "\u001b[1;31mOSError\u001b[0m                                   Traceback (most recent call last)",
      "Cell \u001b[1;32mIn[13], line 1\u001b[0m\n\u001b[1;32m----> 1\u001b[0m \u001b[43mplt\u001b[49m\u001b[38;5;241;43m.\u001b[39;49m\u001b[43mstyle\u001b[49m\u001b[38;5;241;43m.\u001b[39;49m\u001b[43muse\u001b[49m\u001b[43m(\u001b[49m\u001b[38;5;124;43m'\u001b[39;49m\u001b[38;5;124;43mseaborn-darkgrid\u001b[39;49m\u001b[38;5;124;43m'\u001b[39;49m\u001b[43m)\u001b[49m  \u001b[38;5;66;03m# Change the style to seaborn-darkgrid for a cleaner look\u001b[39;00m\n\u001b[0;32m      2\u001b[0m y_pos \u001b[38;5;241m=\u001b[39m np\u001b[38;5;241m.\u001b[39marange(\u001b[38;5;241m500\u001b[39m)\n\u001b[0;32m      4\u001b[0m fig, ax \u001b[38;5;241m=\u001b[39m plt\u001b[38;5;241m.\u001b[39msubplots(figsize\u001b[38;5;241m=\u001b[39m(\u001b[38;5;241m12\u001b[39m, \u001b[38;5;241m10\u001b[39m))\n",
      "File \u001b[1;32m~\\AppData\\Local\\Packages\\PythonSoftwareFoundation.Python.3.10_qbz5n2kfra8p0\\LocalCache\\local-packages\\Python310\\site-packages\\matplotlib\\style\\core.py:139\u001b[0m, in \u001b[0;36muse\u001b[1;34m(style)\u001b[0m\n\u001b[0;32m    137\u001b[0m         style \u001b[38;5;241m=\u001b[39m _rc_params_in_file(style)\n\u001b[0;32m    138\u001b[0m     \u001b[38;5;28;01mexcept\u001b[39;00m \u001b[38;5;167;01mOSError\u001b[39;00m \u001b[38;5;28;01mas\u001b[39;00m err:\n\u001b[1;32m--> 139\u001b[0m         \u001b[38;5;28;01mraise\u001b[39;00m \u001b[38;5;167;01mOSError\u001b[39;00m(\n\u001b[0;32m    140\u001b[0m             \u001b[38;5;124mf\u001b[39m\u001b[38;5;124m\"\u001b[39m\u001b[38;5;132;01m{\u001b[39;00mstyle\u001b[38;5;132;01m!r}\u001b[39;00m\u001b[38;5;124m is not a valid package style, path of style \u001b[39m\u001b[38;5;124m\"\u001b[39m\n\u001b[0;32m    141\u001b[0m             \u001b[38;5;124mf\u001b[39m\u001b[38;5;124m\"\u001b[39m\u001b[38;5;124mfile, URL of style file, or library style name (library \u001b[39m\u001b[38;5;124m\"\u001b[39m\n\u001b[0;32m    142\u001b[0m             \u001b[38;5;124mf\u001b[39m\u001b[38;5;124m\"\u001b[39m\u001b[38;5;124mstyles are listed in `style.available`)\u001b[39m\u001b[38;5;124m\"\u001b[39m) \u001b[38;5;28;01mfrom\u001b[39;00m \u001b[38;5;21;01merr\u001b[39;00m\n\u001b[0;32m    143\u001b[0m filtered \u001b[38;5;241m=\u001b[39m {}\n\u001b[0;32m    144\u001b[0m \u001b[38;5;28;01mfor\u001b[39;00m k \u001b[38;5;129;01min\u001b[39;00m style:  \u001b[38;5;66;03m# don't trigger RcParams.__getitem__('backend')\u001b[39;00m\n",
      "\u001b[1;31mOSError\u001b[0m: 'seaborn-darkgrid' is not a valid package style, path of style file, URL of style file, or library style name (library styles are listed in `style.available`)"
     ]
    }
   ],
   "source": [
    "plt.style.use('seaborn-darkgrid')  # Change the style to seaborn-darkgrid for a cleaner look\n",
    "y_pos = np.arange(500)\n",
    "\n",
    "fig, ax = plt.subplots(figsize=(12, 10))\n",
    "\n",
    "expected_zipf = [df['total'][0] / (i + 1) for i in y_pos]\n",
    "ax.plot(y_pos, expected_zipf, color='r', linestyle='--', linewidth=2, alpha=0.7, label='Expected Zipf')\n",
    "\n",
    "bars = ax.bar(y_pos, df['total'][:500], alpha=0.7, color='skyblue', label='Actual Frequency')\n",
    "\n",
    "ax.set_xlim(0, 500)\n",
    "ax.set_ylim(0, 250000)\n",
    "ax.set_ylabel('Frequency', fontsize=12)\n",
    "ax.set_title('Top 500 tokens in tweets', fontsize=16)\n",
    "ax.legend()\n",
    "\n",
    "# Adding grid lines for better readability\n",
    "ax.grid(axis='y', linestyle='--', alpha=0.7)\n",
    "\n",
    "# Adding a horizontal line at y=0 for better reference\n",
    "ax.axhline(y=0, color='black', linewidth=1, linestyle='--', alpha=0.7)\n",
    "\n",
    "plt.show()"
   ]
  }
 ],
 "metadata": {
  "kernelspec": {
   "display_name": "Python 3",
   "language": "python",
   "name": "python3"
  },
  "language_info": {
   "codemirror_mode": {
    "name": "ipython",
    "version": 3
   },
   "file_extension": ".py",
   "mimetype": "text/x-python",
   "name": "python",
   "nbconvert_exporter": "python",
   "pygments_lexer": "ipython3",
   "version": "3.10.11"
  }
 },
 "nbformat": 4,
 "nbformat_minor": 2
}
