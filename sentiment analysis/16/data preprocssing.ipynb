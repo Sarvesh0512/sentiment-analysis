{
 "cells": [
  {
   "cell_type": "code",
   "execution_count": 2,
   "metadata": {},
   "outputs": [],
   "source": [
    "import pandas as pd\n",
    "import numpy as np\n",
    "\n",
    "import re\n",
    "import html\n",
    "\n",
    "import matplotlib.pyplot as plt\n",
    "import seaborn as sns\n",
    "%matplotlib inline\n",
    "\n",
    "from nltk.tokenize import TreebankWordTokenizer\n",
    "\n",
    "import warnings\n",
    "warnings.filterwarnings(\"ignore\")"
   ]
  },
  {
   "cell_type": "code",
   "execution_count": 3,
   "metadata": {},
   "outputs": [
    {
     "name": "stdout",
     "output_type": "stream",
     "text": [
      "Requirement already satisfied: seaborn in c:\\users\\sarve\\appdata\\local\\packages\\pythonsoftwarefoundation.python.3.10_qbz5n2kfra8p0\\localcache\\local-packages\\python310\\site-packages (0.13.2)Note: you may need to restart the kernel to use updated packages.\n",
      "\n",
      "Requirement already satisfied: numpy!=1.24.0,>=1.20 in c:\\users\\sarve\\appdata\\local\\packages\\pythonsoftwarefoundation.python.3.10_qbz5n2kfra8p0\\localcache\\local-packages\\python310\\site-packages (from seaborn) (1.26.4)\n",
      "Requirement already satisfied: pandas>=1.2 in c:\\users\\sarve\\appdata\\local\\packages\\pythonsoftwarefoundation.python.3.10_qbz5n2kfra8p0\\localcache\\local-packages\\python310\\site-packages (from seaborn) (2.2.2)\n",
      "Requirement already satisfied: matplotlib!=3.6.1,>=3.4 in c:\\users\\sarve\\appdata\\local\\packages\\pythonsoftwarefoundation.python.3.10_qbz5n2kfra8p0\\localcache\\local-packages\\python310\\site-packages (from seaborn) (3.9.0)\n",
      "Requirement already satisfied: contourpy>=1.0.1 in c:\\users\\sarve\\appdata\\local\\packages\\pythonsoftwarefoundation.python.3.10_qbz5n2kfra8p0\\localcache\\local-packages\\python310\\site-packages (from matplotlib!=3.6.1,>=3.4->seaborn) (1.2.1)\n",
      "Requirement already satisfied: cycler>=0.10 in c:\\users\\sarve\\appdata\\local\\packages\\pythonsoftwarefoundation.python.3.10_qbz5n2kfra8p0\\localcache\\local-packages\\python310\\site-packages (from matplotlib!=3.6.1,>=3.4->seaborn) (0.12.1)\n",
      "Requirement already satisfied: fonttools>=4.22.0 in c:\\users\\sarve\\appdata\\local\\packages\\pythonsoftwarefoundation.python.3.10_qbz5n2kfra8p0\\localcache\\local-packages\\python310\\site-packages (from matplotlib!=3.6.1,>=3.4->seaborn) (4.53.0)\n",
      "Requirement already satisfied: kiwisolver>=1.3.1 in c:\\users\\sarve\\appdata\\local\\packages\\pythonsoftwarefoundation.python.3.10_qbz5n2kfra8p0\\localcache\\local-packages\\python310\\site-packages (from matplotlib!=3.6.1,>=3.4->seaborn) (1.4.5)\n",
      "Requirement already satisfied: packaging>=20.0 in c:\\users\\sarve\\appdata\\local\\packages\\pythonsoftwarefoundation.python.3.10_qbz5n2kfra8p0\\localcache\\local-packages\\python310\\site-packages (from matplotlib!=3.6.1,>=3.4->seaborn) (24.0)\n",
      "Requirement already satisfied: pillow>=8 in c:\\users\\sarve\\appdata\\local\\packages\\pythonsoftwarefoundation.python.3.10_qbz5n2kfra8p0\\localcache\\local-packages\\python310\\site-packages (from matplotlib!=3.6.1,>=3.4->seaborn) (10.3.0)\n",
      "Requirement already satisfied: pyparsing>=2.3.1 in c:\\users\\sarve\\appdata\\local\\packages\\pythonsoftwarefoundation.python.3.10_qbz5n2kfra8p0\\localcache\\local-packages\\python310\\site-packages (from matplotlib!=3.6.1,>=3.4->seaborn) (3.1.2)\n",
      "Requirement already satisfied: python-dateutil>=2.7 in c:\\users\\sarve\\appdata\\local\\packages\\pythonsoftwarefoundation.python.3.10_qbz5n2kfra8p0\\localcache\\local-packages\\python310\\site-packages (from matplotlib!=3.6.1,>=3.4->seaborn) (2.9.0.post0)\n",
      "Requirement already satisfied: pytz>=2020.1 in c:\\users\\sarve\\appdata\\local\\packages\\pythonsoftwarefoundation.python.3.10_qbz5n2kfra8p0\\localcache\\local-packages\\python310\\site-packages (from pandas>=1.2->seaborn) (2024.1)\n",
      "Requirement already satisfied: tzdata>=2022.7 in c:\\users\\sarve\\appdata\\local\\packages\\pythonsoftwarefoundation.python.3.10_qbz5n2kfra8p0\\localcache\\local-packages\\python310\\site-packages (from pandas>=1.2->seaborn) (2024.1)\n",
      "Requirement already satisfied: six>=1.5 in c:\\users\\sarve\\appdata\\local\\packages\\pythonsoftwarefoundation.python.3.10_qbz5n2kfra8p0\\localcache\\local-packages\\python310\\site-packages (from python-dateutil>=2.7->matplotlib!=3.6.1,>=3.4->seaborn) (1.16.0)\n",
      "Requirement already satisfied: kaggle in c:\\users\\sarve\\appdata\\local\\packages\\pythonsoftwarefoundation.python.3.10_qbz5n2kfra8p0\\localcache\\local-packages\\python310\\site-packages (1.6.17)\n",
      "Requirement already satisfied: six>=1.10 in c:\\users\\sarve\\appdata\\local\\packages\\pythonsoftwarefoundation.python.3.10_qbz5n2kfra8p0\\localcache\\local-packages\\python310\\site-packages (from kaggle) (1.16.0)\n",
      "Requirement already satisfied: certifi>=2023.7.22 in c:\\users\\sarve\\appdata\\local\\packages\\pythonsoftwarefoundation.python.3.10_qbz5n2kfra8p0\\localcache\\local-packages\\python310\\site-packages (from kaggle) (2024.2.2)\n",
      "Requirement already satisfied: python-dateutil in c:\\users\\sarve\\appdata\\local\\packages\\pythonsoftwarefoundation.python.3.10_qbz5n2kfra8p0\\localcache\\local-packages\\python310\\site-packages (from kaggle) (2.9.0.post0)\n",
      "Requirement already satisfied: requests in c:\\users\\sarve\\appdata\\local\\packages\\pythonsoftwarefoundation.python.3.10_qbz5n2kfra8p0\\localcache\\local-packages\\python310\\site-packages (from kaggle) (2.32.3)\n",
      "Requirement already satisfied: tqdm in c:\\users\\sarve\\appdata\\local\\packages\\pythonsoftwarefoundation.python.3.10_qbz5n2kfra8p0\\localcache\\local-packages\\python310\\site-packages (from kaggle) (4.66.4)\n",
      "Requirement already satisfied: python-slugify in c:\\users\\sarve\\appdata\\local\\packages\\pythonsoftwarefoundation.python.3.10_qbz5n2kfra8p0\\localcache\\local-packages\\python310\\site-packages (from kaggle) (8.0.4)\n",
      "Requirement already satisfied: urllib3 in c:\\users\\sarve\\appdata\\local\\packages\\pythonsoftwarefoundation.python.3.10_qbz5n2kfra8p0\\localcache\\local-packages\\python310\\site-packages (from kaggle) (1.26.19)\n",
      "Requirement already satisfied: bleach in c:\\users\\sarve\\appdata\\local\\packages\\pythonsoftwarefoundation.python.3.10_qbz5n2kfra8p0\\localcache\\local-packages\\python310\\site-packages (from kaggle) (6.1.0)\n",
      "Requirement already satisfied: webencodings in c:\\users\\sarve\\appdata\\local\\packages\\pythonsoftwarefoundation.python.3.10_qbz5n2kfra8p0\\localcache\\local-packages\\python310\\site-packages (from bleach->kaggle) (0.5.1)\n",
      "Requirement already satisfied: text-unidecode>=1.3 in c:\\users\\sarve\\appdata\\local\\packages\\pythonsoftwarefoundation.python.3.10_qbz5n2kfra8p0\\localcache\\local-packages\\python310\\site-packages (from python-slugify->kaggle) (1.3)\n",
      "Requirement already satisfied: charset-normalizer<4,>=2 in c:\\users\\sarve\\appdata\\local\\packages\\pythonsoftwarefoundation.python.3.10_qbz5n2kfra8p0\\localcache\\local-packages\\python310\\site-packages (from requests->kaggle) (3.3.2)\n",
      "Requirement already satisfied: idna<4,>=2.5 in c:\\users\\sarve\\appdata\\local\\packages\\pythonsoftwarefoundation.python.3.10_qbz5n2kfra8p0\\localcache\\local-packages\\python310\\site-packages (from requests->kaggle) (3.7)\n",
      "Requirement already satisfied: colorama in c:\\users\\sarve\\appdata\\local\\packages\\pythonsoftwarefoundation.python.3.10_qbz5n2kfra8p0\\localcache\\local-packages\\python310\\site-packages (from tqdm->kaggle) (0.4.6)\n",
      "Note: you may need to restart the kernel to use updated packages.\n"
     ]
    }
   ],
   "source": [
    "%pip install seaborn\n",
    "%pip install kaggle"
   ]
  },
  {
   "cell_type": "code",
   "execution_count": 4,
   "metadata": {},
   "outputs": [],
   "source": [
    "twitter_data_raw = pd.read_csv('training.1600000.processed.noemoticon.csv', encoding = \"ISO-8859-1\", header=None)\n",
    "\n"
   ]
  },
  {
   "cell_type": "code",
   "execution_count": 5,
   "metadata": {},
   "outputs": [],
   "source": [
    "twitter_data_raw.columns = ['sentiment', 'id', 'date', 'query_string', 'user', 'text']"
   ]
  },
  {
   "cell_type": "code",
   "execution_count": 6,
   "metadata": {},
   "outputs": [
    {
     "data": {
      "text/html": [
       "<style type=\"text/css\">\n",
       "#T_5ad0c_row0_col0, #T_5ad0c_row0_col1, #T_5ad0c_row0_col2, #T_5ad0c_row0_col3, #T_5ad0c_row0_col4, #T_5ad0c_row0_col5, #T_5ad0c_row1_col0, #T_5ad0c_row1_col1, #T_5ad0c_row1_col2, #T_5ad0c_row1_col3, #T_5ad0c_row1_col4, #T_5ad0c_row1_col5, #T_5ad0c_row2_col0, #T_5ad0c_row2_col1, #T_5ad0c_row2_col2, #T_5ad0c_row2_col3, #T_5ad0c_row2_col4, #T_5ad0c_row2_col5, #T_5ad0c_row3_col0, #T_5ad0c_row3_col1, #T_5ad0c_row3_col2, #T_5ad0c_row3_col3, #T_5ad0c_row3_col4, #T_5ad0c_row3_col5, #T_5ad0c_row4_col0, #T_5ad0c_row4_col1, #T_5ad0c_row4_col2, #T_5ad0c_row4_col3, #T_5ad0c_row4_col4, #T_5ad0c_row4_col5 {\n",
       "  background-color: #E9F6E2;\n",
       "  color: black;\n",
       "  border-color: #8b8c8c;\n",
       "}\n",
       "</style>\n",
       "<table id=\"T_5ad0c\">\n",
       "  <thead>\n",
       "    <tr>\n",
       "      <th class=\"blank level0\" >&nbsp;</th>\n",
       "      <th id=\"T_5ad0c_level0_col0\" class=\"col_heading level0 col0\" >sentiment</th>\n",
       "      <th id=\"T_5ad0c_level0_col1\" class=\"col_heading level0 col1\" >id</th>\n",
       "      <th id=\"T_5ad0c_level0_col2\" class=\"col_heading level0 col2\" >date</th>\n",
       "      <th id=\"T_5ad0c_level0_col3\" class=\"col_heading level0 col3\" >query_string</th>\n",
       "      <th id=\"T_5ad0c_level0_col4\" class=\"col_heading level0 col4\" >user</th>\n",
       "      <th id=\"T_5ad0c_level0_col5\" class=\"col_heading level0 col5\" >text</th>\n",
       "    </tr>\n",
       "  </thead>\n",
       "  <tbody>\n",
       "    <tr>\n",
       "      <th id=\"T_5ad0c_level0_row0\" class=\"row_heading level0 row0\" >0</th>\n",
       "      <td id=\"T_5ad0c_row0_col0\" class=\"data row0 col0\" >0</td>\n",
       "      <td id=\"T_5ad0c_row0_col1\" class=\"data row0 col1\" >1467810369</td>\n",
       "      <td id=\"T_5ad0c_row0_col2\" class=\"data row0 col2\" >Mon Apr 06 22:19:45 PDT 2009</td>\n",
       "      <td id=\"T_5ad0c_row0_col3\" class=\"data row0 col3\" >NO_QUERY</td>\n",
       "      <td id=\"T_5ad0c_row0_col4\" class=\"data row0 col4\" >_TheSpecialOne_</td>\n",
       "      <td id=\"T_5ad0c_row0_col5\" class=\"data row0 col5\" >@switchfoot http://twitpic.com/2y1zl - Awww, that's a bummer.  You shoulda got David Carr of Third Day to do it. ;D</td>\n",
       "    </tr>\n",
       "    <tr>\n",
       "      <th id=\"T_5ad0c_level0_row1\" class=\"row_heading level0 row1\" >1</th>\n",
       "      <td id=\"T_5ad0c_row1_col0\" class=\"data row1 col0\" >0</td>\n",
       "      <td id=\"T_5ad0c_row1_col1\" class=\"data row1 col1\" >1467810672</td>\n",
       "      <td id=\"T_5ad0c_row1_col2\" class=\"data row1 col2\" >Mon Apr 06 22:19:49 PDT 2009</td>\n",
       "      <td id=\"T_5ad0c_row1_col3\" class=\"data row1 col3\" >NO_QUERY</td>\n",
       "      <td id=\"T_5ad0c_row1_col4\" class=\"data row1 col4\" >scotthamilton</td>\n",
       "      <td id=\"T_5ad0c_row1_col5\" class=\"data row1 col5\" >is upset that he can't update his Facebook by texting it... and might cry as a result  School today also. Blah!</td>\n",
       "    </tr>\n",
       "    <tr>\n",
       "      <th id=\"T_5ad0c_level0_row2\" class=\"row_heading level0 row2\" >2</th>\n",
       "      <td id=\"T_5ad0c_row2_col0\" class=\"data row2 col0\" >0</td>\n",
       "      <td id=\"T_5ad0c_row2_col1\" class=\"data row2 col1\" >1467810917</td>\n",
       "      <td id=\"T_5ad0c_row2_col2\" class=\"data row2 col2\" >Mon Apr 06 22:19:53 PDT 2009</td>\n",
       "      <td id=\"T_5ad0c_row2_col3\" class=\"data row2 col3\" >NO_QUERY</td>\n",
       "      <td id=\"T_5ad0c_row2_col4\" class=\"data row2 col4\" >mattycus</td>\n",
       "      <td id=\"T_5ad0c_row2_col5\" class=\"data row2 col5\" >@Kenichan I dived many times for the ball. Managed to save 50%  The rest go out of bounds</td>\n",
       "    </tr>\n",
       "    <tr>\n",
       "      <th id=\"T_5ad0c_level0_row3\" class=\"row_heading level0 row3\" >3</th>\n",
       "      <td id=\"T_5ad0c_row3_col0\" class=\"data row3 col0\" >0</td>\n",
       "      <td id=\"T_5ad0c_row3_col1\" class=\"data row3 col1\" >1467811184</td>\n",
       "      <td id=\"T_5ad0c_row3_col2\" class=\"data row3 col2\" >Mon Apr 06 22:19:57 PDT 2009</td>\n",
       "      <td id=\"T_5ad0c_row3_col3\" class=\"data row3 col3\" >NO_QUERY</td>\n",
       "      <td id=\"T_5ad0c_row3_col4\" class=\"data row3 col4\" >ElleCTF</td>\n",
       "      <td id=\"T_5ad0c_row3_col5\" class=\"data row3 col5\" >my whole body feels itchy and like its on fire </td>\n",
       "    </tr>\n",
       "    <tr>\n",
       "      <th id=\"T_5ad0c_level0_row4\" class=\"row_heading level0 row4\" >4</th>\n",
       "      <td id=\"T_5ad0c_row4_col0\" class=\"data row4 col0\" >0</td>\n",
       "      <td id=\"T_5ad0c_row4_col1\" class=\"data row4 col1\" >1467811193</td>\n",
       "      <td id=\"T_5ad0c_row4_col2\" class=\"data row4 col2\" >Mon Apr 06 22:19:57 PDT 2009</td>\n",
       "      <td id=\"T_5ad0c_row4_col3\" class=\"data row4 col3\" >NO_QUERY</td>\n",
       "      <td id=\"T_5ad0c_row4_col4\" class=\"data row4 col4\" >Karoli</td>\n",
       "      <td id=\"T_5ad0c_row4_col5\" class=\"data row4 col5\" >@nationwideclass no, it's not behaving at all. i'm mad. why am i here? because I can't see you all over there. </td>\n",
       "    </tr>\n",
       "  </tbody>\n",
       "</table>\n"
      ],
      "text/plain": [
       "<pandas.io.formats.style.Styler at 0x2656c0e43d0>"
      ]
     },
     "execution_count": 6,
     "metadata": {},
     "output_type": "execute_result"
    }
   ],
   "source": [
    "twitter_data_raw.head().style.set_properties(**{'background-color': '#E9F6E2','color': 'black','border-color': '#8b8c8c'})"
   ]
  },
  {
   "cell_type": "code",
   "execution_count": 7,
   "metadata": {},
   "outputs": [
    {
     "data": {
      "text/html": [
       "<style type=\"text/css\">\n",
       "#T_39dad_row0_col0, #T_39dad_row0_col1, #T_39dad_row0_col2, #T_39dad_row0_col3, #T_39dad_row0_col4, #T_39dad_row0_col5, #T_39dad_row1_col0, #T_39dad_row1_col1, #T_39dad_row1_col2, #T_39dad_row1_col3, #T_39dad_row1_col4, #T_39dad_row1_col5, #T_39dad_row2_col0, #T_39dad_row2_col1, #T_39dad_row2_col2, #T_39dad_row2_col3, #T_39dad_row2_col4, #T_39dad_row2_col5, #T_39dad_row3_col0, #T_39dad_row3_col1, #T_39dad_row3_col2, #T_39dad_row3_col3, #T_39dad_row3_col4, #T_39dad_row3_col5, #T_39dad_row4_col0, #T_39dad_row4_col1, #T_39dad_row4_col2, #T_39dad_row4_col3, #T_39dad_row4_col4, #T_39dad_row4_col5 {\n",
       "  background-color: #E9F6E2;\n",
       "  color: black;\n",
       "  border-color: #8b8c8c;\n",
       "}\n",
       "</style>\n",
       "<table id=\"T_39dad\">\n",
       "  <thead>\n",
       "    <tr>\n",
       "      <th class=\"blank level0\" >&nbsp;</th>\n",
       "      <th id=\"T_39dad_level0_col0\" class=\"col_heading level0 col0\" >sentiment</th>\n",
       "      <th id=\"T_39dad_level0_col1\" class=\"col_heading level0 col1\" >id</th>\n",
       "      <th id=\"T_39dad_level0_col2\" class=\"col_heading level0 col2\" >date</th>\n",
       "      <th id=\"T_39dad_level0_col3\" class=\"col_heading level0 col3\" >query_string</th>\n",
       "      <th id=\"T_39dad_level0_col4\" class=\"col_heading level0 col4\" >user</th>\n",
       "      <th id=\"T_39dad_level0_col5\" class=\"col_heading level0 col5\" >text</th>\n",
       "    </tr>\n",
       "  </thead>\n",
       "  <tbody>\n",
       "    <tr>\n",
       "      <th id=\"T_39dad_level0_row0\" class=\"row_heading level0 row0\" >1599995</th>\n",
       "      <td id=\"T_39dad_row0_col0\" class=\"data row0 col0\" >4</td>\n",
       "      <td id=\"T_39dad_row0_col1\" class=\"data row0 col1\" >2193601966</td>\n",
       "      <td id=\"T_39dad_row0_col2\" class=\"data row0 col2\" >Tue Jun 16 08:40:49 PDT 2009</td>\n",
       "      <td id=\"T_39dad_row0_col3\" class=\"data row0 col3\" >NO_QUERY</td>\n",
       "      <td id=\"T_39dad_row0_col4\" class=\"data row0 col4\" >AmandaMarie1028</td>\n",
       "      <td id=\"T_39dad_row0_col5\" class=\"data row0 col5\" >Just woke up. Having no school is the best feeling ever </td>\n",
       "    </tr>\n",
       "    <tr>\n",
       "      <th id=\"T_39dad_level0_row1\" class=\"row_heading level0 row1\" >1599996</th>\n",
       "      <td id=\"T_39dad_row1_col0\" class=\"data row1 col0\" >4</td>\n",
       "      <td id=\"T_39dad_row1_col1\" class=\"data row1 col1\" >2193601969</td>\n",
       "      <td id=\"T_39dad_row1_col2\" class=\"data row1 col2\" >Tue Jun 16 08:40:49 PDT 2009</td>\n",
       "      <td id=\"T_39dad_row1_col3\" class=\"data row1 col3\" >NO_QUERY</td>\n",
       "      <td id=\"T_39dad_row1_col4\" class=\"data row1 col4\" >TheWDBoards</td>\n",
       "      <td id=\"T_39dad_row1_col5\" class=\"data row1 col5\" >TheWDB.com - Very cool to hear old Walt interviews!  â« http://blip.fm/~8bmta</td>\n",
       "    </tr>\n",
       "    <tr>\n",
       "      <th id=\"T_39dad_level0_row2\" class=\"row_heading level0 row2\" >1599997</th>\n",
       "      <td id=\"T_39dad_row2_col0\" class=\"data row2 col0\" >4</td>\n",
       "      <td id=\"T_39dad_row2_col1\" class=\"data row2 col1\" >2193601991</td>\n",
       "      <td id=\"T_39dad_row2_col2\" class=\"data row2 col2\" >Tue Jun 16 08:40:49 PDT 2009</td>\n",
       "      <td id=\"T_39dad_row2_col3\" class=\"data row2 col3\" >NO_QUERY</td>\n",
       "      <td id=\"T_39dad_row2_col4\" class=\"data row2 col4\" >bpbabe</td>\n",
       "      <td id=\"T_39dad_row2_col5\" class=\"data row2 col5\" >Are you ready for your MoJo Makeover? Ask me for details </td>\n",
       "    </tr>\n",
       "    <tr>\n",
       "      <th id=\"T_39dad_level0_row3\" class=\"row_heading level0 row3\" >1599998</th>\n",
       "      <td id=\"T_39dad_row3_col0\" class=\"data row3 col0\" >4</td>\n",
       "      <td id=\"T_39dad_row3_col1\" class=\"data row3 col1\" >2193602064</td>\n",
       "      <td id=\"T_39dad_row3_col2\" class=\"data row3 col2\" >Tue Jun 16 08:40:49 PDT 2009</td>\n",
       "      <td id=\"T_39dad_row3_col3\" class=\"data row3 col3\" >NO_QUERY</td>\n",
       "      <td id=\"T_39dad_row3_col4\" class=\"data row3 col4\" >tinydiamondz</td>\n",
       "      <td id=\"T_39dad_row3_col5\" class=\"data row3 col5\" >Happy 38th Birthday to my boo of alll time!!! Tupac Amaru Shakur </td>\n",
       "    </tr>\n",
       "    <tr>\n",
       "      <th id=\"T_39dad_level0_row4\" class=\"row_heading level0 row4\" >1599999</th>\n",
       "      <td id=\"T_39dad_row4_col0\" class=\"data row4 col0\" >4</td>\n",
       "      <td id=\"T_39dad_row4_col1\" class=\"data row4 col1\" >2193602129</td>\n",
       "      <td id=\"T_39dad_row4_col2\" class=\"data row4 col2\" >Tue Jun 16 08:40:50 PDT 2009</td>\n",
       "      <td id=\"T_39dad_row4_col3\" class=\"data row4 col3\" >NO_QUERY</td>\n",
       "      <td id=\"T_39dad_row4_col4\" class=\"data row4 col4\" >RyanTrevMorris</td>\n",
       "      <td id=\"T_39dad_row4_col5\" class=\"data row4 col5\" >happy #charitytuesday @theNSPCC @SparksCharity @SpeakingUpH4H </td>\n",
       "    </tr>\n",
       "  </tbody>\n",
       "</table>\n"
      ],
      "text/plain": [
       "<pandas.io.formats.style.Styler at 0x265297012d0>"
      ]
     },
     "execution_count": 7,
     "metadata": {},
     "output_type": "execute_result"
    }
   ],
   "source": [
    "twitter_data_raw.tail().style.set_properties(**{'background-color': '#E9F6E2','color': 'black','border-color': '#8b8c8c'})"
   ]
  },
  {
   "cell_type": "code",
   "execution_count": 8,
   "metadata": {},
   "outputs": [
    {
     "name": "stdout",
     "output_type": "stream",
     "text": [
      "The shape of data frame: (1600000, 6)\n",
      "Number of Rows in the dataframe: 1600000\n",
      "Number of Columns in the dataframe: 6\n"
     ]
    }
   ],
   "source": [
    "# Print the shape of the DataFrame\n",
    "print(\"The shape of data frame:\", twitter_data_raw.shape)\n",
    "# Print the length (number of rows) of the DataFrame\n",
    "print(\"Number of Rows in the dataframe:\", len(twitter_data_raw))\n",
    "# Print the number of columns in the DataFrame\n",
    "print(\"Number of Columns in the dataframe:\", len(twitter_data_raw.columns))"
   ]
  },
  {
   "cell_type": "code",
   "execution_count": 9,
   "metadata": {},
   "outputs": [
    {
     "name": "stdout",
     "output_type": "stream",
     "text": [
      "<class 'pandas.core.frame.DataFrame'>\n",
      "RangeIndex: 1600000 entries, 0 to 1599999\n",
      "Data columns (total 6 columns):\n",
      " #   Column        Non-Null Count    Dtype \n",
      "---  ------        --------------    ----- \n",
      " 0   sentiment     1600000 non-null  int64 \n",
      " 1   id            1600000 non-null  int64 \n",
      " 2   date          1600000 non-null  object\n",
      " 3   query_string  1600000 non-null  object\n",
      " 4   user          1600000 non-null  object\n",
      " 5   text          1600000 non-null  object\n",
      "dtypes: int64(2), object(4)\n",
      "memory usage: 73.2+ MB\n"
     ]
    }
   ],
   "source": [
    "twitter_data_raw.info() "
   ]
  },
  {
   "cell_type": "code",
   "execution_count": 10,
   "metadata": {},
   "outputs": [],
   "source": [
    "sentiment_counts = twitter_data_raw['sentiment'].value_counts()"
   ]
  },
  {
   "cell_type": "code",
   "execution_count": 11,
   "metadata": {},
   "outputs": [
    {
     "name": "stdout",
     "output_type": "stream",
     "text": [
      "Sentiment Distribution:\n",
      "Negative (0): 800000\n",
      "Positive (4): 800000\n"
     ]
    }
   ],
   "source": [
    "# Print the counts and sentiment labels\n",
    "print(\"Sentiment Distribution:\")\n",
    "print(\"Negative (0):\", sentiment_counts[0])\n",
    "print(\"Positive (4):\", sentiment_counts[4])"
   ]
  },
  {
   "cell_type": "code",
   "execution_count": 12,
   "metadata": {},
   "outputs": [],
   "source": [
    "# Calculate and print the percentage breakdown\n",
    "total_tweets = len(twitter_data_raw)\n",
    "percentage_negative = (sentiment_counts[0] / total_tweets) * 100\n",
    "percentage_positive = (sentiment_counts[4] / total_tweets) * 100"
   ]
  },
  {
   "cell_type": "code",
   "execution_count": 13,
   "metadata": {},
   "outputs": [
    {
     "name": "stdout",
     "output_type": "stream",
     "text": [
      "\n",
      "Percentage Breakdown:\n",
      "Negative: 50.00%\n",
      "Positive: 50.00%\n"
     ]
    }
   ],
   "source": [
    "print(\"\\nPercentage Breakdown:\")\n",
    "print(\"Negative: {:.2f}%\".format(percentage_negative))\n",
    "print(\"Positive: {:.2f}%\".format(percentage_positive))"
   ]
  },
  {
   "cell_type": "markdown",
   "metadata": {},
   "source": [
    "trim data\n"
   ]
  },
  {
   "cell_type": "code",
   "execution_count": 14,
   "metadata": {},
   "outputs": [
    {
     "name": "stdout",
     "output_type": "stream",
     "text": [
      "Unexpected exception formatting exception. Falling back to standard exception\n"
     ]
    },
    {
     "name": "stderr",
     "output_type": "stream",
     "text": [
      "Traceback (most recent call last):\n",
      "  File \"C:\\Users\\sarve\\AppData\\Local\\Packages\\PythonSoftwareFoundation.Python.3.10_qbz5n2kfra8p0\\LocalCache\\local-packages\\Python310\\site-packages\\IPython\\core\\interactiveshell.py\", line 3577, in run_code\n",
      "    exec(code_obj, self.user_global_ns, self.user_ns)\n",
      "  File \"C:\\Users\\sarve\\AppData\\Local\\Temp\\ipykernel_7348\\3917540529.py\", line 3, in <module>\n",
      "    twitter_data_raw_neg = twitter_data_raw[twitter_data_raw['sentiment'] == 0]\n",
      "  File \"C:\\Users\\sarve\\AppData\\Local\\Packages\\PythonSoftwareFoundation.Python.3.10_qbz5n2kfra8p0\\LocalCache\\local-packages\\Python310\\site-packages\\pandas\\core\\frame.py\", line 4093, in __getitem__\n",
      "    return self._getitem_bool_array(key)\n",
      "  File \"C:\\Users\\sarve\\AppData\\Local\\Packages\\PythonSoftwareFoundation.Python.3.10_qbz5n2kfra8p0\\LocalCache\\local-packages\\Python310\\site-packages\\pandas\\core\\frame.py\", line 4155, in _getitem_bool_array\n",
      "    return self._take_with_is_copy(indexer, axis=0)\n",
      "  File \"C:\\Users\\sarve\\AppData\\Local\\Packages\\PythonSoftwareFoundation.Python.3.10_qbz5n2kfra8p0\\LocalCache\\local-packages\\Python310\\site-packages\\pandas\\core\\generic.py\", line 4153, in _take_with_is_copy\n",
      "    result = self.take(indices=indices, axis=axis)\n",
      "  File \"C:\\Users\\sarve\\AppData\\Local\\Packages\\PythonSoftwareFoundation.Python.3.10_qbz5n2kfra8p0\\LocalCache\\local-packages\\Python310\\site-packages\\pandas\\core\\generic.py\", line 4133, in take\n",
      "    new_data = self._mgr.take(\n",
      "  File \"C:\\Users\\sarve\\AppData\\Local\\Packages\\PythonSoftwareFoundation.Python.3.10_qbz5n2kfra8p0\\LocalCache\\local-packages\\Python310\\site-packages\\pandas\\core\\internals\\managers.py\", line 894, in take\n",
      "    return self.reindex_indexer(\n",
      "  File \"C:\\Users\\sarve\\AppData\\Local\\Packages\\PythonSoftwareFoundation.Python.3.10_qbz5n2kfra8p0\\LocalCache\\local-packages\\Python310\\site-packages\\pandas\\core\\internals\\managers.py\", line 687, in reindex_indexer\n",
      "    new_blocks = [\n",
      "  File \"C:\\Users\\sarve\\AppData\\Local\\Packages\\PythonSoftwareFoundation.Python.3.10_qbz5n2kfra8p0\\LocalCache\\local-packages\\Python310\\site-packages\\pandas\\core\\internals\\managers.py\", line 688, in <listcomp>\n",
      "    blk.take_nd(\n",
      "  File \"C:\\Users\\sarve\\AppData\\Local\\Packages\\PythonSoftwareFoundation.Python.3.10_qbz5n2kfra8p0\\LocalCache\\local-packages\\Python310\\site-packages\\pandas\\core\\internals\\blocks.py\", line 1307, in take_nd\n",
      "    new_values = algos.take_nd(\n",
      "  File \"C:\\Users\\sarve\\AppData\\Local\\Packages\\PythonSoftwareFoundation.Python.3.10_qbz5n2kfra8p0\\LocalCache\\local-packages\\Python310\\site-packages\\pandas\\core\\array_algos\\take.py\", line 117, in take_nd\n",
      "    return _take_nd_ndarray(arr, indexer, axis, fill_value, allow_fill)\n",
      "  File \"C:\\Users\\sarve\\AppData\\Local\\Packages\\PythonSoftwareFoundation.Python.3.10_qbz5n2kfra8p0\\LocalCache\\local-packages\\Python310\\site-packages\\pandas\\core\\array_algos\\take.py\", line 157, in _take_nd_ndarray\n",
      "    out = np.empty(out_shape, dtype=dtype)\n",
      "numpy.core._exceptions._ArrayMemoryError: Unable to allocate 12.2 MiB for an array with shape (2, 800000) and data type int64\n",
      "\n",
      "During handling of the above exception, another exception occurred:\n",
      "\n",
      "Traceback (most recent call last):\n",
      "  File \"C:\\Users\\sarve\\AppData\\Local\\Packages\\PythonSoftwareFoundation.Python.3.10_qbz5n2kfra8p0\\LocalCache\\local-packages\\Python310\\site-packages\\IPython\\core\\interactiveshell.py\", line 2168, in showtraceback\n",
      "    stb = self.InteractiveTB.structured_traceback(\n",
      "  File \"C:\\Users\\sarve\\AppData\\Local\\Packages\\PythonSoftwareFoundation.Python.3.10_qbz5n2kfra8p0\\LocalCache\\local-packages\\Python310\\site-packages\\IPython\\core\\ultratb.py\", line 1454, in structured_traceback\n",
      "    return FormattedTB.structured_traceback(\n",
      "  File \"C:\\Users\\sarve\\AppData\\Local\\Packages\\PythonSoftwareFoundation.Python.3.10_qbz5n2kfra8p0\\LocalCache\\local-packages\\Python310\\site-packages\\IPython\\core\\ultratb.py\", line 1345, in structured_traceback\n",
      "    return VerboseTB.structured_traceback(\n",
      "  File \"C:\\Users\\sarve\\AppData\\Local\\Packages\\PythonSoftwareFoundation.Python.3.10_qbz5n2kfra8p0\\LocalCache\\local-packages\\Python310\\site-packages\\IPython\\core\\ultratb.py\", line 1192, in structured_traceback\n",
      "    formatted_exception = self.format_exception_as_a_whole(etype, evalue, etb, number_of_lines_of_context,\n",
      "  File \"C:\\Users\\sarve\\AppData\\Local\\Packages\\PythonSoftwareFoundation.Python.3.10_qbz5n2kfra8p0\\LocalCache\\local-packages\\Python310\\site-packages\\IPython\\core\\ultratb.py\", line 1082, in format_exception_as_a_whole\n",
      "    self.get_records(etb, number_of_lines_of_context, tb_offset) if etb else []\n",
      "  File \"C:\\Users\\sarve\\AppData\\Local\\Packages\\PythonSoftwareFoundation.Python.3.10_qbz5n2kfra8p0\\LocalCache\\local-packages\\Python310\\site-packages\\IPython\\core\\ultratb.py\", line 1179, in get_records\n",
      "    res = list(stack_data.FrameInfo.stack_data(etb, options=options))[tb_offset:]\n",
      "  File \"C:\\Users\\sarve\\AppData\\Local\\Packages\\PythonSoftwareFoundation.Python.3.10_qbz5n2kfra8p0\\LocalCache\\local-packages\\Python310\\site-packages\\stack_data\\core.py\", line 597, in stack_data\n",
      "    yield from collapse_repeated(\n",
      "  File \"C:\\Users\\sarve\\AppData\\Local\\Packages\\PythonSoftwareFoundation.Python.3.10_qbz5n2kfra8p0\\LocalCache\\local-packages\\Python310\\site-packages\\stack_data\\utils.py\", line 83, in collapse_repeated\n",
      "    yield from map(mapper, original_group)\n",
      "  File \"C:\\Users\\sarve\\AppData\\Local\\Packages\\PythonSoftwareFoundation.Python.3.10_qbz5n2kfra8p0\\LocalCache\\local-packages\\Python310\\site-packages\\stack_data\\core.py\", line 587, in mapper\n",
      "    return cls(f, options)\n",
      "  File \"C:\\Users\\sarve\\AppData\\Local\\Packages\\PythonSoftwareFoundation.Python.3.10_qbz5n2kfra8p0\\LocalCache\\local-packages\\Python310\\site-packages\\stack_data\\core.py\", line 551, in __init__\n",
      "    self.executing = Source.executing(frame_or_tb)\n",
      "  File \"C:\\Users\\sarve\\AppData\\Local\\Packages\\PythonSoftwareFoundation.Python.3.10_qbz5n2kfra8p0\\LocalCache\\local-packages\\Python310\\site-packages\\executing\\executing.py\", line 264, in executing\n",
      "    source = cls.for_frame(frame)\n",
      "  File \"C:\\Users\\sarve\\AppData\\Local\\Packages\\PythonSoftwareFoundation.Python.3.10_qbz5n2kfra8p0\\LocalCache\\local-packages\\Python310\\site-packages\\executing\\executing.py\", line 183, in for_frame\n",
      "    return cls.for_filename(frame.f_code.co_filename, frame.f_globals or {}, use_cache)\n",
      "  File \"C:\\Users\\sarve\\AppData\\Local\\Packages\\PythonSoftwareFoundation.Python.3.10_qbz5n2kfra8p0\\LocalCache\\local-packages\\Python310\\site-packages\\executing\\executing.py\", line 212, in for_filename\n",
      "    return cls._for_filename_and_lines(filename, tuple(lines))\n",
      "  File \"C:\\Users\\sarve\\AppData\\Local\\Packages\\PythonSoftwareFoundation.Python.3.10_qbz5n2kfra8p0\\LocalCache\\local-packages\\Python310\\site-packages\\executing\\executing.py\", line 223, in _for_filename_and_lines\n",
      "    result = source_cache[(filename, lines)] = cls(filename, lines)\n",
      "  File \"C:\\Users\\sarve\\AppData\\Local\\Packages\\PythonSoftwareFoundation.Python.3.10_qbz5n2kfra8p0\\LocalCache\\local-packages\\Python310\\site-packages\\executing\\executing.py\", line 163, in __init__\n",
      "    self.tree = ast.parse(self.text, filename=filename)\n",
      "  File \"C:\\Program Files\\WindowsApps\\PythonSoftwareFoundation.Python.3.10_3.10.3056.0_x64__qbz5n2kfra8p0\\lib\\ast.py\", line 50, in parse\n",
      "    return compile(source, filename, mode, flags,\n",
      "MemoryError\n"
     ]
    }
   ],
   "source": [
    "\n",
    "# Seperating positive and negative rows\n",
    "twitter_data_raw_pos = twitter_data_raw[twitter_data_raw['sentiment'] == 4]\n",
    "twitter_data_raw_neg = twitter_data_raw[twitter_data_raw['sentiment'] == 0]"
   ]
  },
  {
   "cell_type": "code",
   "execution_count": 14,
   "metadata": {},
   "outputs": [],
   "source": [
    "# Only retaining a fraction of the data from each output group using sample\n",
    "frac = 1/4  # You can adjust this fraction as needed\n",
    "twitter_data_raw_pos = twitter_data_raw_pos.sample(frac=frac, random_state=42)\n",
    "twitter_data_raw_neg = twitter_data_raw_neg.sample(frac=frac, random_state=42)"
   ]
  },
  {
   "cell_type": "code",
   "execution_count": 15,
   "metadata": {},
   "outputs": [],
   "source": [
    "# Concatenating both positive and negative groups and storing them back into a single dataframe\n",
    "twitter_data_trim = pd.concat([twitter_data_raw_pos, twitter_data_raw_neg])"
   ]
  },
  {
   "cell_type": "code",
   "execution_count": 16,
   "metadata": {},
   "outputs": [
    {
     "name": "stdout",
     "output_type": "stream",
     "text": [
      "200000 200000\n",
      "400000\n"
     ]
    }
   ],
   "source": [
    "# Display lengths\n",
    "print(len(twitter_data_raw_pos), len(twitter_data_raw_neg))\n",
    "print(len(twitter_data_trim))"
   ]
  },
  {
   "cell_type": "markdown",
   "metadata": {},
   "source": [
    "data preprocessing\n"
   ]
  },
  {
   "cell_type": "code",
   "execution_count": 1,
   "metadata": {},
   "outputs": [
    {
     "ename": "NameError",
     "evalue": "name 'twitter_data_trim' is not defined",
     "output_type": "error",
     "traceback": [
      "\u001b[1;31m---------------------------------------------------------------------------\u001b[0m",
      "\u001b[1;31mNameError\u001b[0m                                 Traceback (most recent call last)",
      "Cell \u001b[1;32mIn[1], line 1\u001b[0m\n\u001b[1;32m----> 1\u001b[0m twitter_data_trim[\u001b[38;5;124m'\u001b[39m\u001b[38;5;124mPreclean_Length\u001b[39m\u001b[38;5;124m'\u001b[39m] \u001b[38;5;241m=\u001b[39m \u001b[43mtwitter_data_trim\u001b[49m[\u001b[38;5;124m'\u001b[39m\u001b[38;5;124mtext\u001b[39m\u001b[38;5;124m'\u001b[39m]\u001b[38;5;241m.\u001b[39mapply(\u001b[38;5;28;01mlambda\u001b[39;00m x: \u001b[38;5;28mlen\u001b[39m(x))\n",
      "\u001b[1;31mNameError\u001b[0m: name 'twitter_data_trim' is not defined"
     ]
    }
   ],
   "source": [
    "twitter_data_trim['Preclean_Length'] = twitter_data_trim['text'].apply(lambda x: len(x))"
   ]
  },
  {
   "cell_type": "code",
   "execution_count": 18,
   "metadata": {},
   "outputs": [],
   "source": [
    "twitter_data_trim.drop(['id', 'date', 'query_string', 'user'], axis=1, inplace=True)"
   ]
  },
  {
   "cell_type": "code",
   "execution_count": 19,
   "metadata": {},
   "outputs": [
    {
     "data": {
      "text/html": [
       "<style type=\"text/css\">\n",
       "#T_58b2e_row0_col0, #T_58b2e_row0_col1, #T_58b2e_row0_col2, #T_58b2e_row1_col0, #T_58b2e_row1_col1, #T_58b2e_row1_col2, #T_58b2e_row2_col0, #T_58b2e_row2_col1, #T_58b2e_row2_col2, #T_58b2e_row3_col0, #T_58b2e_row3_col1, #T_58b2e_row3_col2, #T_58b2e_row4_col0, #T_58b2e_row4_col1, #T_58b2e_row4_col2 {\n",
       "  background-color: #E9F6E2;\n",
       "  color: black;\n",
       "  border-color: #8b8c8c;\n",
       "}\n",
       "</style>\n",
       "<table id=\"T_58b2e\">\n",
       "  <thead>\n",
       "    <tr>\n",
       "      <th class=\"blank level0\" >&nbsp;</th>\n",
       "      <th id=\"T_58b2e_level0_col0\" class=\"col_heading level0 col0\" >sentiment</th>\n",
       "      <th id=\"T_58b2e_level0_col1\" class=\"col_heading level0 col1\" >text</th>\n",
       "      <th id=\"T_58b2e_level0_col2\" class=\"col_heading level0 col2\" >Preclean_Length</th>\n",
       "    </tr>\n",
       "  </thead>\n",
       "  <tbody>\n",
       "    <tr>\n",
       "      <th id=\"T_58b2e_level0_row0\" class=\"row_heading level0 row0\" >1012188</th>\n",
       "      <td id=\"T_58b2e_row0_col0\" class=\"data row0 col0\" >4</td>\n",
       "      <td id=\"T_58b2e_row0_col1\" class=\"data row0 col1\" >Is lookin 4ward to a long weekend  really dont want to go to work 2day tho =[ x</td>\n",
       "      <td id=\"T_58b2e_row0_col2\" class=\"data row0 col2\" >79</td>\n",
       "    </tr>\n",
       "    <tr>\n",
       "      <th id=\"T_58b2e_level0_row1\" class=\"row_heading level0 row1\" >1099036</th>\n",
       "      <td id=\"T_58b2e_row1_col0\" class=\"data row1 col0\" >4</td>\n",
       "      <td id=\"T_58b2e_row1_col1\" class=\"data row1 col1\" >#myweakness  Is music and i live to meet the people who make it </td>\n",
       "      <td id=\"T_58b2e_row1_col2\" class=\"data row1 col2\" >64</td>\n",
       "    </tr>\n",
       "    <tr>\n",
       "      <th id=\"T_58b2e_level0_row2\" class=\"row_heading level0 row2\" >1275978</th>\n",
       "      <td id=\"T_58b2e_row2_col0\" class=\"data row2 col0\" >4</td>\n",
       "      <td id=\"T_58b2e_row2_col1\" class=\"data row2 col1\" >figured out the Internet on my new iPod </td>\n",
       "      <td id=\"T_58b2e_row2_col2\" class=\"data row2 col2\" >40</td>\n",
       "    </tr>\n",
       "    <tr>\n",
       "      <th id=\"T_58b2e_level0_row3\" class=\"row_heading level0 row3\" >1388988</th>\n",
       "      <td id=\"T_58b2e_row3_col0\" class=\"data row3 col0\" >4</td>\n",
       "      <td id=\"T_58b2e_row3_col1\" class=\"data row3 col1\" >@hillsongunited can't wait to worship with you guys tonight. it'll be so much fun </td>\n",
       "      <td id=\"T_58b2e_row3_col2\" class=\"data row3 col2\" >82</td>\n",
       "    </tr>\n",
       "    <tr>\n",
       "      <th id=\"T_58b2e_level0_row4\" class=\"row_heading level0 row4\" >938859</th>\n",
       "      <td id=\"T_58b2e_row4_col0\" class=\"data row4 col0\" >4</td>\n",
       "      <td id=\"T_58b2e_row4_col1\" class=\"data row4 col1\" >@sillybeggar Congrats James !! I'm sure the book is going to be a huge success </td>\n",
       "      <td id=\"T_58b2e_row4_col2\" class=\"data row4 col2\" >79</td>\n",
       "    </tr>\n",
       "  </tbody>\n",
       "</table>\n"
      ],
      "text/plain": [
       "<pandas.io.formats.style.Styler at 0x231101c5e70>"
      ]
     },
     "execution_count": 19,
     "metadata": {},
     "output_type": "execute_result"
    }
   ],
   "source": [
    "twitter_data_trim.head().style.set_properties(**{'background-color': '#E9F6E2','color': 'black','border-color': '#8b8c8c'})"
   ]
  },
  {
   "cell_type": "code",
   "execution_count": 20,
   "metadata": {},
   "outputs": [
    {
     "data": {
      "image/png": "[encoded data removed]",
      "text/plain": [
       "<Figure size 1000x600 with 1 Axes>"
      ]
     },
     "metadata": {},
     "output_type": "display_data"
    }
   ],
   "source": [
    "# Set the style\n",
    "sns.set(style=\"whitegrid\")\n",
    "\n",
    "# Create the plot\n",
    "plt.figure(figsize=(10, 6))\n",
    "sns.distplot(twitter_data_trim['Preclean_Length'], kde=False, color='skyblue', hist_kws=dict(edgecolor=\"k\", linewidth=2))\n",
    "\n",
    "# Add labels and title\n",
    "plt.title('Distribution of Preclean_Length', fontsize=16)\n",
    "plt.xlabel('Preclean_Length', fontsize=14)\n",
    "plt.ylabel('Frequency', fontsize=14)\n",
    "\n",
    "# Add grid for better readability\n",
    "plt.grid(axis='y', linestyle='--', alpha=0.7)\n",
    "\n",
    "# Show the plot\n",
    "plt.show()"
   ]
  },
  {
   "cell_type": "code",
   "execution_count": 21,
   "metadata": {},
   "outputs": [
    {
     "data": {
      "image/png": "[encoded data removed]",
      "text/plain": [
       "<Figure size 1000x600 with 1 Axes>"
      ]
     },
     "metadata": {},
     "output_type": "display_data"
    }
   ],
   "source": [
    "# Set the style\n",
    "sns.set(style=\"whitegrid\")\n",
    "\n",
    "# Create the plot\n",
    "plt.figure(figsize=(10, 6))\n",
    "sns.boxplot(y='Preclean_Length', data=twitter_data_trim, color='skyblue', width=0.3)\n",
    "\n",
    "# Add labels and title\n",
    "plt.title('Boxplot of Preclean_Length', fontsize=16)\n",
    "plt.ylabel('Preclean_Length', fontsize=14)\n",
    "\n",
    "# Add grid for better readability\n",
    "plt.grid(axis='y', linestyle='--', alpha=0.7)\n",
    "\n",
    "# Show the plot\n",
    "plt.show()"
   ]
  },
  {
   "cell_type": "code",
   "execution_count": 22,
   "metadata": {},
   "outputs": [
    {
     "data": {
      "text/html": [
       "<div>\n",
       "<style scoped>\n",
       "    .dataframe tbody tr th:only-of-type {\n",
       "        vertical-align: middle;\n",
       "    }\n",
       "\n",
       "    .dataframe tbody tr th {\n",
       "        vertical-align: top;\n",
       "    }\n",
       "\n",
       "    .dataframe thead th {\n",
       "        text-align: right;\n",
       "    }\n",
       "</style>\n",
       "<table border=\"1\" class=\"dataframe\">\n",
       "  <thead>\n",
       "    <tr style=\"text-align: right;\">\n",
       "      <th></th>\n",
       "      <th>sentiment</th>\n",
       "      <th>text</th>\n",
       "      <th>Preclean_Length</th>\n",
       "    </tr>\n",
       "  </thead>\n",
       "  <tbody>\n",
       "    <tr>\n",
       "      <th>1029581</th>\n",
       "      <td>4</td>\n",
       "      <td>Night all. Only 5 hours of sleep last night &amp;a...</td>\n",
       "      <td>143</td>\n",
       "    </tr>\n",
       "    <tr>\n",
       "      <th>1185915</th>\n",
       "      <td>4</td>\n",
       "      <td>@JonathanRKnight for realz! Safe travels- hope...</td>\n",
       "      <td>141</td>\n",
       "    </tr>\n",
       "    <tr>\n",
       "      <th>1440623</th>\n",
       "      <td>4</td>\n",
       "      <td>Just came back from watching my brothers play ...</td>\n",
       "      <td>141</td>\n",
       "    </tr>\n",
       "    <tr>\n",
       "      <th>1337319</th>\n",
       "      <td>4</td>\n",
       "      <td>Everybody check out @ItsTyraB's song &amp;quot;You...</td>\n",
       "      <td>161</td>\n",
       "    </tr>\n",
       "    <tr>\n",
       "      <th>1427762</th>\n",
       "      <td>4</td>\n",
       "      <td>A squirrel says to a tree: &amp;quot;I did not sto...</td>\n",
       "      <td>141</td>\n",
       "    </tr>\n",
       "    <tr>\n",
       "      <th>...</th>\n",
       "      <td>...</td>\n",
       "      <td>...</td>\n",
       "      <td>...</td>\n",
       "    </tr>\n",
       "    <tr>\n",
       "      <th>230645</th>\n",
       "      <td>0</td>\n",
       "      <td>@ivaleriei I love that movie, never been to al...</td>\n",
       "      <td>146</td>\n",
       "    </tr>\n",
       "    <tr>\n",
       "      <th>93225</th>\n",
       "      <td>0</td>\n",
       "      <td>@JewelStaite &amp;lt;small voice&amp;gt;I sometimes si...</td>\n",
       "      <td>151</td>\n",
       "    </tr>\n",
       "    <tr>\n",
       "      <th>218260</th>\n",
       "      <td>0</td>\n",
       "      <td>@Talsiach I know. Weird...And I've &amp;quot;lost&amp;...</td>\n",
       "      <td>143</td>\n",
       "    </tr>\n",
       "    <tr>\n",
       "      <th>446306</th>\n",
       "      <td>0</td>\n",
       "      <td>i've possibily ruined cheese forever for my pa...</td>\n",
       "      <td>142</td>\n",
       "    </tr>\n",
       "    <tr>\n",
       "      <th>342174</th>\n",
       "      <td>0</td>\n",
       "      <td>I just want to scream &amp;quot;DON'T DO IT&amp;quot; ...</td>\n",
       "      <td>148</td>\n",
       "    </tr>\n",
       "  </tbody>\n",
       "</table>\n",
       "<p>4397 rows × 3 columns</p>\n",
       "</div>"
      ],
      "text/plain": [
       "         sentiment                                               text  \\\n",
       "1029581          4  Night all. Only 5 hours of sleep last night &a...   \n",
       "1185915          4  @JonathanRKnight for realz! Safe travels- hope...   \n",
       "1440623          4  Just came back from watching my brothers play ...   \n",
       "1337319          4  Everybody check out @ItsTyraB's song &quot;You...   \n",
       "1427762          4  A squirrel says to a tree: &quot;I did not sto...   \n",
       "...            ...                                                ...   \n",
       "230645           0  @ivaleriei I love that movie, never been to al...   \n",
       "93225            0  @JewelStaite &lt;small voice&gt;I sometimes si...   \n",
       "218260           0  @Talsiach I know. Weird...And I've &quot;lost&...   \n",
       "446306           0  i've possibily ruined cheese forever for my pa...   \n",
       "342174           0  I just want to scream &quot;DON'T DO IT&quot; ...   \n",
       "\n",
       "         Preclean_Length  \n",
       "1029581              143  \n",
       "1185915              141  \n",
       "1440623              141  \n",
       "1337319              161  \n",
       "1427762              141  \n",
       "...                  ...  \n",
       "230645               146  \n",
       "93225                151  \n",
       "218260               143  \n",
       "446306               142  \n",
       "342174               148  \n",
       "\n",
       "[4397 rows x 3 columns]"
      ]
     },
     "execution_count": 22,
     "metadata": {},
     "output_type": "execute_result"
    }
   ],
   "source": [
    "twitter_data_trim[twitter_data_trim['Preclean_Length']>140]"
   ]
  },
  {
   "cell_type": "markdown",
   "metadata": {},
   "source": [
    "data cleaning html decoding\n"
   ]
  },
  {
   "cell_type": "code",
   "execution_count": 23,
   "metadata": {},
   "outputs": [
    {
     "data": {
      "text/plain": [
       "'Missing My BFF  watching home and away it reminds me of her and me  we &lt;3 It. shout out to u courts'"
      ]
     },
     "execution_count": 23,
     "metadata": {},
     "output_type": "execute_result"
    }
   ],
   "source": [
    "twitter_data_trim['text'][248]"
   ]
  },
  {
   "cell_type": "code",
   "execution_count": 24,
   "metadata": {},
   "outputs": [],
   "source": [
    "tweet = html.unescape(twitter_data_trim['text'][248])"
   ]
  },
  {
   "cell_type": "code",
   "execution_count": 25,
   "metadata": {},
   "outputs": [
    {
     "data": {
      "text/plain": [
       "'Missing My BFF  watching home and away it reminds me of her and me  we <3 It. shout out to u courts'"
      ]
     },
     "execution_count": 25,
     "metadata": {},
     "output_type": "execute_result"
    }
   ],
   "source": [
    "tweet"
   ]
  },
  {
   "cell_type": "markdown",
   "metadata": {},
   "source": [
    "URL links"
   ]
  },
  {
   "cell_type": "code",
   "execution_count": 26,
   "metadata": {},
   "outputs": [
    {
     "data": {
      "text/plain": [
       "\"@switchfoot http://twitpic.com/2y1zl - Awww, that's a bummer.  You shoulda got David Carr of Third Day to do it. ;D\""
      ]
     },
     "execution_count": 26,
     "metadata": {},
     "output_type": "execute_result"
    }
   ],
   "source": [
    "twitter_data_trim['text'][0]"
   ]
  },
  {
   "cell_type": "code",
   "execution_count": 27,
   "metadata": {},
   "outputs": [
    {
     "data": {
      "text/plain": [
       "\"@switchfoot  - Awww, that's a bummer.  You shoulda got David Carr of Third Day to do it. ;D\""
      ]
     },
     "execution_count": 27,
     "metadata": {},
     "output_type": "execute_result"
    }
   ],
   "source": [
    "re.sub('https?://[A-Za-z0-9./]+','',twitter_data_trim['text'][0])"
   ]
  },
  {
   "cell_type": "markdown",
   "metadata": {},
   "source": [
    "Mentions"
   ]
  },
  {
   "cell_type": "code",
   "execution_count": 28,
   "metadata": {},
   "outputs": [
    {
     "data": {
      "text/plain": [
       "\"@switchfoot http://twitpic.com/2y1zl - Awww, that's a bummer.  You shoulda got David Carr of Third Day to do it. ;D\""
      ]
     },
     "execution_count": 28,
     "metadata": {},
     "output_type": "execute_result"
    }
   ],
   "source": [
    "twitter_data_trim['text'][0]"
   ]
  },
  {
   "cell_type": "code",
   "execution_count": 29,
   "metadata": {},
   "outputs": [
    {
     "data": {
      "text/plain": [
       "\" http://twitpic.com/2y1zl - Awww, that's a bummer.  You shoulda got David Carr of Third Day to do it. ;D\""
      ]
     },
     "execution_count": 29,
     "metadata": {},
     "output_type": "execute_result"
    }
   ],
   "source": [
    "re.sub(r'@[A-Za-z0-9]+','', twitter_data_trim['text'][0])"
   ]
  },
  {
   "cell_type": "markdown",
   "metadata": {},
   "source": [
    "hastags\n"
   ]
  },
  {
   "cell_type": "code",
   "execution_count": 30,
   "metadata": {},
   "outputs": [
    {
     "data": {
      "text/plain": [
       "\"@machineplay I'm so sorry you're having to go through this. Again.  #therapyfail\""
      ]
     },
     "execution_count": 30,
     "metadata": {},
     "output_type": "execute_result"
    }
   ],
   "source": [
    "twitter_data_trim['text'][175]"
   ]
  },
  {
   "cell_type": "code",
   "execution_count": 31,
   "metadata": {},
   "outputs": [
    {
     "data": {
      "text/plain": [
       "' machineplay I m so sorry you re having to go through this  Again    therapyfail'"
      ]
     },
     "execution_count": 31,
     "metadata": {},
     "output_type": "execute_result"
    }
   ],
   "source": [
    "re.sub(\"[^a-zA-Z]\", \" \", twitter_data_trim['text'][175])"
   ]
  },
  {
   "cell_type": "markdown",
   "metadata": {},
   "source": [
    "data cleaning"
   ]
  },
  {
   "cell_type": "code",
   "execution_count": 32,
   "metadata": {},
   "outputs": [],
   "source": [
    "token = TreebankWordTokenizer()"
   ]
  },
  {
   "cell_type": "code",
   "execution_count": 33,
   "metadata": {},
   "outputs": [],
   "source": [
    "mentions = r'@[A-Za-z0-9]+'\n",
    "url_https = 'https?://[A-Za-z0-9./]+'\n",
    "url_www = r'www.[^ ]+'"
   ]
  },
  {
   "cell_type": "code",
   "execution_count": 34,
   "metadata": {},
   "outputs": [
    {
     "name": "stdout",
     "output_type": "stream",
     "text": [
      "I am a master is n't\n"
     ]
    }
   ],
   "source": [
    "word = \"I am a  master isn't\"\n",
    "lists = token.tokenize(word)\n",
    "print(\" \".join(lists).strip())"
   ]
  },
  {
   "cell_type": "code",
   "execution_count": 35,
   "metadata": {},
   "outputs": [],
   "source": [
    "negations = {\"isn't\":\"is not\", \"aren't\":\"are not\", \"wasn't\":\"was not\", \"weren't\":\"were not\",\n",
    "             \"haven't\":\"have not\",\"hasn't\":\"has not\",\"hadn't\":\"had not\",\"won't\":\"will not\",\n",
    "             \"wouldn't\":\"would not\", \"don't\":\"do not\", \"doesn't\":\"does not\",\"didn't\":\"did not\",\n",
    "             \"can't\":\"can not\",\"couldn't\":\"could not\",\"shouldn't\":\"should not\",\"mightn't\":\"might not\",\n",
    "             \"mustn't\":\"must not\"\n",
    "            }"
   ]
  },
  {
   "cell_type": "code",
   "execution_count": 36,
   "metadata": {},
   "outputs": [],
   "source": [
    "\n",
    "for a,b in negations.items():\n",
    "    if a in word:\n",
    "        word = word.replace(a, b)"
   ]
  },
  {
   "cell_type": "code",
   "execution_count": 37,
   "metadata": {},
   "outputs": [
    {
     "data": {
      "text/plain": [
       "'I am a  master is not'"
      ]
     },
     "execution_count": 37,
     "metadata": {},
     "output_type": "execute_result"
    }
   ],
   "source": [
    "word"
   ]
  },
  {
   "cell_type": "code",
   "execution_count": 38,
   "metadata": {},
   "outputs": [],
   "source": [
    "def tweet_cleaning(text):\n",
    "    text = html.unescape(text)\n",
    "    text = re.sub(mentions, '', text)\n",
    "    text = re.sub(url_https, '', text)\n",
    "    text = re.sub(url_www, '', text)\n",
    "    text = text.lower()\n",
    "    for a, b in negations.items():\n",
    "        if a in text:\n",
    "            text = text.replace(a,b)\n",
    "    #Removing characters except letters\n",
    "    text = re.sub(\"[^a-zA-Z]\", \" \", text)\n",
    "    #Removing unnecessary white spaces using tokenizer\n",
    "    word_list = token.tokenize(text)\n",
    "    text = \" \".join(word_list).strip()\n",
    "    return text"
   ]
  },
  {
   "cell_type": "code",
   "execution_count": 39,
   "metadata": {},
   "outputs": [],
   "source": [
    "twitter_data_trim['text'] = twitter_data_trim['text'].apply(lambda x: tweet_cleaning(x))"
   ]
  },
  {
   "cell_type": "code",
   "execution_count": 40,
   "metadata": {},
   "outputs": [
    {
     "data": {
      "text/html": [
       "<style type=\"text/css\">\n",
       "#T_b6fce_row0_col0, #T_b6fce_row0_col1, #T_b6fce_row0_col2, #T_b6fce_row1_col0, #T_b6fce_row1_col1, #T_b6fce_row1_col2, #T_b6fce_row2_col0, #T_b6fce_row2_col1, #T_b6fce_row2_col2, #T_b6fce_row3_col0, #T_b6fce_row3_col1, #T_b6fce_row3_col2, #T_b6fce_row4_col0, #T_b6fce_row4_col1, #T_b6fce_row4_col2 {\n",
       "  background-color: #E9F6E2;\n",
       "  color: black;\n",
       "  border-color: #8b8c8c;\n",
       "}\n",
       "</style>\n",
       "<table id=\"T_b6fce\">\n",
       "  <thead>\n",
       "    <tr>\n",
       "      <th class=\"blank level0\" >&nbsp;</th>\n",
       "      <th id=\"T_b6fce_level0_col0\" class=\"col_heading level0 col0\" >sentiment</th>\n",
       "      <th id=\"T_b6fce_level0_col1\" class=\"col_heading level0 col1\" >text</th>\n",
       "      <th id=\"T_b6fce_level0_col2\" class=\"col_heading level0 col2\" >Preclean_Length</th>\n",
       "    </tr>\n",
       "  </thead>\n",
       "  <tbody>\n",
       "    <tr>\n",
       "      <th id=\"T_b6fce_level0_row0\" class=\"row_heading level0 row0\" >1012188</th>\n",
       "      <td id=\"T_b6fce_row0_col0\" class=\"data row0 col0\" >4</td>\n",
       "      <td id=\"T_b6fce_row0_col1\" class=\"data row0 col1\" >is lookin ward to a long weekend really dont want to go to work day tho x</td>\n",
       "      <td id=\"T_b6fce_row0_col2\" class=\"data row0 col2\" >79</td>\n",
       "    </tr>\n",
       "    <tr>\n",
       "      <th id=\"T_b6fce_level0_row1\" class=\"row_heading level0 row1\" >1099036</th>\n",
       "      <td id=\"T_b6fce_row1_col0\" class=\"data row1 col0\" >4</td>\n",
       "      <td id=\"T_b6fce_row1_col1\" class=\"data row1 col1\" >myweakness is music and i live to meet the people who make it</td>\n",
       "      <td id=\"T_b6fce_row1_col2\" class=\"data row1 col2\" >64</td>\n",
       "    </tr>\n",
       "    <tr>\n",
       "      <th id=\"T_b6fce_level0_row2\" class=\"row_heading level0 row2\" >1275978</th>\n",
       "      <td id=\"T_b6fce_row2_col0\" class=\"data row2 col0\" >4</td>\n",
       "      <td id=\"T_b6fce_row2_col1\" class=\"data row2 col1\" >figured out the internet on my new ipod</td>\n",
       "      <td id=\"T_b6fce_row2_col2\" class=\"data row2 col2\" >40</td>\n",
       "    </tr>\n",
       "    <tr>\n",
       "      <th id=\"T_b6fce_level0_row3\" class=\"row_heading level0 row3\" >1388988</th>\n",
       "      <td id=\"T_b6fce_row3_col0\" class=\"data row3 col0\" >4</td>\n",
       "      <td id=\"T_b6fce_row3_col1\" class=\"data row3 col1\" >can not wait to worship with you guys tonight it ll be so much fun</td>\n",
       "      <td id=\"T_b6fce_row3_col2\" class=\"data row3 col2\" >82</td>\n",
       "    </tr>\n",
       "    <tr>\n",
       "      <th id=\"T_b6fce_level0_row4\" class=\"row_heading level0 row4\" >938859</th>\n",
       "      <td id=\"T_b6fce_row4_col0\" class=\"data row4 col0\" >4</td>\n",
       "      <td id=\"T_b6fce_row4_col1\" class=\"data row4 col1\" >congrats james i m sure the book is going to be a huge success</td>\n",
       "      <td id=\"T_b6fce_row4_col2\" class=\"data row4 col2\" >79</td>\n",
       "    </tr>\n",
       "  </tbody>\n",
       "</table>\n"
      ],
      "text/plain": [
       "<pandas.io.formats.style.Styler at 0x2311262fcd0>"
      ]
     },
     "execution_count": 40,
     "metadata": {},
     "output_type": "execute_result"
    }
   ],
   "source": [
    "twitter_data_trim.head().style.set_properties(**{'background-color': '#E9F6E2','color': 'black','border-color': '#8b8c8c'})"
   ]
  },
  {
   "cell_type": "code",
   "execution_count": 41,
   "metadata": {},
   "outputs": [],
   "source": [
    "twitter_data_trim.drop(['Preclean_Length'], axis=1, inplace=True)"
   ]
  },
  {
   "cell_type": "code",
   "execution_count": 42,
   "metadata": {},
   "outputs": [
    {
     "data": {
      "text/html": [
       "<style type=\"text/css\">\n",
       "#T_bb40d_row0_col0, #T_bb40d_row0_col1, #T_bb40d_row1_col0, #T_bb40d_row1_col1, #T_bb40d_row2_col0, #T_bb40d_row2_col1, #T_bb40d_row3_col0, #T_bb40d_row3_col1, #T_bb40d_row4_col0, #T_bb40d_row4_col1 {\n",
       "  background-color: #E9F6E2;\n",
       "  color: black;\n",
       "  border-color: #8b8c8c;\n",
       "}\n",
       "</style>\n",
       "<table id=\"T_bb40d\">\n",
       "  <thead>\n",
       "    <tr>\n",
       "      <th class=\"blank level0\" >&nbsp;</th>\n",
       "      <th id=\"T_bb40d_level0_col0\" class=\"col_heading level0 col0\" >sentiment</th>\n",
       "      <th id=\"T_bb40d_level0_col1\" class=\"col_heading level0 col1\" >text</th>\n",
       "    </tr>\n",
       "  </thead>\n",
       "  <tbody>\n",
       "    <tr>\n",
       "      <th id=\"T_bb40d_level0_row0\" class=\"row_heading level0 row0\" >1012188</th>\n",
       "      <td id=\"T_bb40d_row0_col0\" class=\"data row0 col0\" >4</td>\n",
       "      <td id=\"T_bb40d_row0_col1\" class=\"data row0 col1\" >is lookin ward to a long weekend really dont want to go to work day tho x</td>\n",
       "    </tr>\n",
       "    <tr>\n",
       "      <th id=\"T_bb40d_level0_row1\" class=\"row_heading level0 row1\" >1099036</th>\n",
       "      <td id=\"T_bb40d_row1_col0\" class=\"data row1 col0\" >4</td>\n",
       "      <td id=\"T_bb40d_row1_col1\" class=\"data row1 col1\" >myweakness is music and i live to meet the people who make it</td>\n",
       "    </tr>\n",
       "    <tr>\n",
       "      <th id=\"T_bb40d_level0_row2\" class=\"row_heading level0 row2\" >1275978</th>\n",
       "      <td id=\"T_bb40d_row2_col0\" class=\"data row2 col0\" >4</td>\n",
       "      <td id=\"T_bb40d_row2_col1\" class=\"data row2 col1\" >figured out the internet on my new ipod</td>\n",
       "    </tr>\n",
       "    <tr>\n",
       "      <th id=\"T_bb40d_level0_row3\" class=\"row_heading level0 row3\" >1388988</th>\n",
       "      <td id=\"T_bb40d_row3_col0\" class=\"data row3 col0\" >4</td>\n",
       "      <td id=\"T_bb40d_row3_col1\" class=\"data row3 col1\" >can not wait to worship with you guys tonight it ll be so much fun</td>\n",
       "    </tr>\n",
       "    <tr>\n",
       "      <th id=\"T_bb40d_level0_row4\" class=\"row_heading level0 row4\" >938859</th>\n",
       "      <td id=\"T_bb40d_row4_col0\" class=\"data row4 col0\" >4</td>\n",
       "      <td id=\"T_bb40d_row4_col1\" class=\"data row4 col1\" >congrats james i m sure the book is going to be a huge success</td>\n",
       "    </tr>\n",
       "  </tbody>\n",
       "</table>\n"
      ],
      "text/plain": [
       "<pandas.io.formats.style.Styler at 0x2311262ffa0>"
      ]
     },
     "execution_count": 42,
     "metadata": {},
     "output_type": "execute_result"
    }
   ],
   "source": [
    "twitter_data_trim.head().style.set_properties(**{'background-color': '#E9F6E2','color': 'black','border-color': '#8b8c8c'})\n"
   ]
  },
  {
   "cell_type": "markdown",
   "metadata": {},
   "source": [
    "Saving the dataset"
   ]
  },
  {
   "cell_type": "code",
   "execution_count": 43,
   "metadata": {},
   "outputs": [],
   "source": [
    "output_file_path = 'twitter_sentiment_data_cleaned.csv'"
   ]
  },
  {
   "cell_type": "code",
   "execution_count": 44,
   "metadata": {},
   "outputs": [],
   "source": [
    "twitter_data_trim.to_csv(output_file_path, index=False)"
   ]
  },
  {
   "cell_type": "code",
   "execution_count": 45,
   "metadata": {},
   "outputs": [
    {
     "name": "stdout",
     "output_type": "stream",
     "text": [
      "DataFrame saved to: twitter_sentiment_data_cleaned.csv\n"
     ]
    }
   ],
   "source": [
    "print(\"DataFrame saved to:\", output_file_path)"
   ]
  }
 ],
 "metadata": {
  "kernelspec": {
   "display_name": "Python 3",
   "language": "python",
   "name": "python3"
  },
  "language_info": {
   "codemirror_mode": {
    "name": "ipython",
    "version": 3
   },
   "file_extension": ".py",
   "mimetype": "text/x-python",
   "name": "python",
   "nbconvert_exporter": "python",
   "pygments_lexer": "ipython3",
   "version": "3.10.11"
  }
 },
 "nbformat": 4,
 "nbformat_minor": 2
}
