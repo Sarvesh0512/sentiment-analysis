{
 "cells": [
  {
   "cell_type": "markdown",
   "id": "7bcce6e5",
   "metadata": {},
   "source": [
    "<div style=\"text-align: center; background-color: #856ff8; padding: 10px;\">\n",
    "    <h2 style=\"font-weight: bold;\">OUTLINE</h2>\n",
    "</div>"
   ]
  },
  {
   "cell_type": "markdown",
   "id": "d96e1e20",
   "metadata": {},
   "source": [
    "- Importing Various Modules\n",
    "- Loading Dataset\n",
    "- Training, Development and Testing Phase\n",
    "- Baseline\n",
    "  - Textblob\n",
    "- Feature Extraction\n",
    "  - Unigram\n",
    "    - Without Stopwords\n",
    "    - With Stopwords\n",
    "    - Without Custom Stopwords\n",
    "  - Bigram\n",
    "    - With Stopwords\n",
    "  - Trigram\n",
    "    - With Stopwords\n",
    "- Classification Report\n",
    "  - Unigram\n",
    "  - Bigram\n",
    "  - Trigram"
   ]
  },
  {
   "cell_type": "markdown",
   "id": "9e79824d",
   "metadata": {},
   "source": [
    "<div style=\"text-align: center; background-color: yellow; padding: 10px;\">\n",
    "    <h2 style=\"font-weight: bold;\">IMPORTING VARIOUS MODULES</h2>\n",
    "</div>"
   ]
  },
  {
   "cell_type": "code",
   "execution_count": 2,
   "id": "5e356b72",
   "metadata": {},
   "outputs": [
    {
     "name": "stdout",
     "output_type": "stream",
     "text": [
      "Collecting textblob\n",
      "  Downloading textblob-0.18.0.post0-py3-none-any.whl.metadata (4.5 kB)\n",
      "Requirement already satisfied: nltk>=3.8 in c:\\users\\sarve\\appdata\\local\\packages\\pythonsoftwarefoundation.python.3.10_qbz5n2kfra8p0\\localcache\\local-packages\\python310\\site-packages (from textblob) (3.9.1)\n",
      "Requirement already satisfied: click in c:\\users\\sarve\\appdata\\local\\packages\\pythonsoftwarefoundation.python.3.10_qbz5n2kfra8p0\\localcache\\local-packages\\python310\\site-packages (from nltk>=3.8->textblob) (8.1.7)\n",
      "Requirement already satisfied: joblib in c:\\users\\sarve\\appdata\\local\\packages\\pythonsoftwarefoundation.python.3.10_qbz5n2kfra8p0\\localcache\\local-packages\\python310\\site-packages (from nltk>=3.8->textblob) (1.4.2)\n",
      "Requirement already satisfied: regex>=2021.8.3 in c:\\users\\sarve\\appdata\\local\\packages\\pythonsoftwarefoundation.python.3.10_qbz5n2kfra8p0\\localcache\\local-packages\\python310\\site-packages (from nltk>=3.8->textblob) (2024.9.11)\n",
      "Requirement already satisfied: tqdm in c:\\users\\sarve\\appdata\\local\\packages\\pythonsoftwarefoundation.python.3.10_qbz5n2kfra8p0\\localcache\\local-packages\\python310\\site-packages (from nltk>=3.8->textblob) (4.66.4)\n",
      "Requirement already satisfied: colorama in c:\\users\\sarve\\appdata\\local\\packages\\pythonsoftwarefoundation.python.3.10_qbz5n2kfra8p0\\localcache\\local-packages\\python310\\site-packages (from click->nltk>=3.8->textblob) (0.4.6)\n",
      "Downloading textblob-0.18.0.post0-py3-none-any.whl (626 kB)\n",
      "   ---------------------------------------- 0.0/626.3 kB ? eta -:--:--\n",
      "   ---------------------------------------- 0.0/626.3 kB ? eta -:--:--\n",
      "   ---------------- ----------------------- 262.1/626.3 kB ? eta -:--:--\n",
      "   ---------------- ----------------------- 262.1/626.3 kB ? eta -:--:--\n",
      "   ---------------- ----------------------- 262.1/626.3 kB ? eta -:--:--\n",
      "   ------------------------------- ------ 524.3/626.3 kB 479.2 kB/s eta 0:00:01\n",
      "   -------------------------------------- 626.3/626.3 kB 439.8 kB/s eta 0:00:00\n",
      "Installing collected packages: textblob\n",
      "Successfully installed textblob-0.18.0.post0\n",
      "Note: you may need to restart the kernel to use updated packages.\n"
     ]
    }
   ],
   "source": [
    "pip install textblob"
   ]
  },
  {
   "cell_type": "code",
   "execution_count": 1,
   "id": "e68c455d",
   "metadata": {},
   "outputs": [],
   "source": [
    "import pandas as pd\n",
    "import numpy as np\n",
    "\n",
    "import matplotlib.pyplot as plt\n",
    "import seaborn as sns\n",
    "%matplotlib inline\n",
    "\n",
    "from time import time\n",
    "\n",
    "from textblob import TextBlob\n",
    "\n",
    "from sklearn.feature_extraction import text\n",
    "\n",
    "from sklearn.feature_extraction.text import CountVectorizer\n",
    "from sklearn.linear_model import LogisticRegression\n",
    "from sklearn.pipeline import Pipeline\n",
    "\n",
    "from sklearn.model_selection import train_test_split\n",
    "\n",
    "from sklearn.metrics import accuracy_score, classification_report, confusion_matrix\n",
    "\n",
    "import warnings\n",
    "warnings.filterwarnings(\"ignore\")"
   ]
  },
  {
   "cell_type": "markdown",
   "id": "25b08987",
   "metadata": {},
   "source": [
    "<div style=\"text-align: center; background-color: yellow; padding: 10px;\">\n",
    "    <h2 style=\"font-weight: bold;\">LOADING DATASET</h2>\n",
    "</div>"
   ]
  },
  {
   "cell_type": "code",
   "execution_count": 2,
   "id": "03cc3109",
   "metadata": {},
   "outputs": [],
   "source": [
    "# Reading the dataset with no columns titles and with latin encoding \n",
    "twitter_data = pd.read_csv('twitter_sentiment_data_cleaned.csv', encoding = \"ISO-8859-1\")"
   ]
  },
  {
   "cell_type": "code",
   "execution_count": 3,
   "id": "c08bfa0b",
   "metadata": {},
   "outputs": [],
   "source": [
    "# As the data has no column titles, we will add our own\n",
    "twitter_data.columns = ['sentiment', 'text']"
   ]
  },
  {
   "cell_type": "code",
   "execution_count": 4,
   "id": "f1e5f00d",
   "metadata": {},
   "outputs": [
    {
     "data": {
      "text/html": [
       "<style type=\"text/css\">\n",
       "#T_99f2a_row0_col0, #T_99f2a_row0_col1, #T_99f2a_row1_col0, #T_99f2a_row1_col1, #T_99f2a_row2_col0, #T_99f2a_row2_col1, #T_99f2a_row3_col0, #T_99f2a_row3_col1, #T_99f2a_row4_col0, #T_99f2a_row4_col1 {\n",
       "  background-color: #E9F6E2;\n",
       "  color: black;\n",
       "  border-color: #8b8c8c;\n",
       "}\n",
       "</style>\n",
       "<table id=\"T_99f2a\">\n",
       "  <thead>\n",
       "    <tr>\n",
       "      <th class=\"blank level0\" >&nbsp;</th>\n",
       "      <th id=\"T_99f2a_level0_col0\" class=\"col_heading level0 col0\" >sentiment</th>\n",
       "      <th id=\"T_99f2a_level0_col1\" class=\"col_heading level0 col1\" >text</th>\n",
       "    </tr>\n",
       "  </thead>\n",
       "  <tbody>\n",
       "    <tr>\n",
       "      <th id=\"T_99f2a_level0_row0\" class=\"row_heading level0 row0\" >0</th>\n",
       "      <td id=\"T_99f2a_row0_col0\" class=\"data row0 col0\" >4</td>\n",
       "      <td id=\"T_99f2a_row0_col1\" class=\"data row0 col1\" >is lookin ward to a long weekend really dont want to go to work day tho x</td>\n",
       "    </tr>\n",
       "    <tr>\n",
       "      <th id=\"T_99f2a_level0_row1\" class=\"row_heading level0 row1\" >1</th>\n",
       "      <td id=\"T_99f2a_row1_col0\" class=\"data row1 col0\" >4</td>\n",
       "      <td id=\"T_99f2a_row1_col1\" class=\"data row1 col1\" >myweakness is music and i live to meet the people who make it</td>\n",
       "    </tr>\n",
       "    <tr>\n",
       "      <th id=\"T_99f2a_level0_row2\" class=\"row_heading level0 row2\" >2</th>\n",
       "      <td id=\"T_99f2a_row2_col0\" class=\"data row2 col0\" >4</td>\n",
       "      <td id=\"T_99f2a_row2_col1\" class=\"data row2 col1\" >figured out the internet on my new ipod</td>\n",
       "    </tr>\n",
       "    <tr>\n",
       "      <th id=\"T_99f2a_level0_row3\" class=\"row_heading level0 row3\" >3</th>\n",
       "      <td id=\"T_99f2a_row3_col0\" class=\"data row3 col0\" >4</td>\n",
       "      <td id=\"T_99f2a_row3_col1\" class=\"data row3 col1\" >can not wait to worship with you guys tonight it ll be so much fun</td>\n",
       "    </tr>\n",
       "    <tr>\n",
       "      <th id=\"T_99f2a_level0_row4\" class=\"row_heading level0 row4\" >4</th>\n",
       "      <td id=\"T_99f2a_row4_col0\" class=\"data row4 col0\" >4</td>\n",
       "      <td id=\"T_99f2a_row4_col1\" class=\"data row4 col1\" >congrats james i m sure the book is going to be a huge success</td>\n",
       "    </tr>\n",
       "  </tbody>\n",
       "</table>\n"
      ],
      "text/plain": [
       "<pandas.io.formats.style.Styler at 0x1df183d0910>"
      ]
     },
     "execution_count": 4,
     "metadata": {},
     "output_type": "execute_result"
    }
   ],
   "source": [
    "# Show the first 5 rows of the dataframe.\n",
    "twitter_data.head().style.set_properties(**{'background-color': '#E9F6E2','color': 'black','border-color': '#8b8c8c'})"
   ]
  },
  {
   "cell_type": "code",
   "execution_count": 5,
   "id": "7e814332",
   "metadata": {},
   "outputs": [
    {
     "data": {
      "text/html": [
       "<style type=\"text/css\">\n",
       "#T_017bc_row0_col0, #T_017bc_row0_col1, #T_017bc_row1_col0, #T_017bc_row1_col1, #T_017bc_row2_col0, #T_017bc_row2_col1, #T_017bc_row3_col0, #T_017bc_row3_col1, #T_017bc_row4_col0, #T_017bc_row4_col1 {\n",
       "  background-color: #E9F6E2;\n",
       "  color: black;\n",
       "  border-color: #8b8c8c;\n",
       "}\n",
       "</style>\n",
       "<table id=\"T_017bc\">\n",
       "  <thead>\n",
       "    <tr>\n",
       "      <th class=\"blank level0\" >&nbsp;</th>\n",
       "      <th id=\"T_017bc_level0_col0\" class=\"col_heading level0 col0\" >sentiment</th>\n",
       "      <th id=\"T_017bc_level0_col1\" class=\"col_heading level0 col1\" >text</th>\n",
       "    </tr>\n",
       "  </thead>\n",
       "  <tbody>\n",
       "    <tr>\n",
       "      <th id=\"T_017bc_level0_row0\" class=\"row_heading level0 row0\" >399995</th>\n",
       "      <td id=\"T_017bc_row0_col0\" class=\"data row0 col0\" >0</td>\n",
       "      <td id=\"T_017bc_row0_col1\" class=\"data row0 col1\" >that is he does not know i tweet and i would like keep it that way sorry bad wife</td>\n",
       "    </tr>\n",
       "    <tr>\n",
       "      <th id=\"T_017bc_level0_row1\" class=\"row_heading level0 row1\" >399996</th>\n",
       "      <td id=\"T_017bc_row1_col0\" class=\"data row1 col0\" >0</td>\n",
       "      <td id=\"T_017bc_row1_col1\" class=\"data row1 col1\" >huh what</td>\n",
       "    </tr>\n",
       "    <tr>\n",
       "      <th id=\"T_017bc_level0_row2\" class=\"row_heading level0 row2\" >399997</th>\n",
       "      <td id=\"T_017bc_row2_col0\" class=\"data row2 col0\" >0</td>\n",
       "      <td id=\"T_017bc_row2_col1\" class=\"data row2 col1\" >only thing is im broke</td>\n",
       "    </tr>\n",
       "    <tr>\n",
       "      <th id=\"T_017bc_level0_row3\" class=\"row_heading level0 row3\" >399998</th>\n",
       "      <td id=\"T_017bc_row3_col0\" class=\"data row3 col0\" >0</td>\n",
       "      <td id=\"T_017bc_row3_col1\" class=\"data row3 col1\" >wish i could work from home today nothing will be going on here</td>\n",
       "    </tr>\n",
       "    <tr>\n",
       "      <th id=\"T_017bc_level0_row4\" class=\"row_heading level0 row4\" >399999</th>\n",
       "      <td id=\"T_017bc_row4_col0\" class=\"data row4 col0\" >0</td>\n",
       "      <td id=\"T_017bc_row4_col1\" class=\"data row4 col1\" >i miss you too i was so worried well today s my last day of school b the break glad u feel better love you</td>\n",
       "    </tr>\n",
       "  </tbody>\n",
       "</table>\n"
      ],
      "text/plain": [
       "<pandas.io.formats.style.Styler at 0x1df183d3f10>"
      ]
     },
     "execution_count": 5,
     "metadata": {},
     "output_type": "execute_result"
    }
   ],
   "source": [
    "# Print bottom 5 rows in the dataframe.\n",
    "twitter_data.tail().style.set_properties(**{'background-color': '#E9F6E2','color': 'black','border-color': '#8b8c8c'})"
   ]
  },
  {
   "cell_type": "code",
   "execution_count": 6,
   "id": "b3525fd5",
   "metadata": {},
   "outputs": [
    {
     "name": "stdout",
     "output_type": "stream",
     "text": [
      "The shape of data frame: (400000, 2)\n",
      "Number of Rows in the dataframe: 400000\n",
      "Number of Columns in the dataframe: 2\n"
     ]
    }
   ],
   "source": [
    "# Print the shape of the DataFrame\n",
    "print(\"The shape of data frame:\", twitter_data.shape)\n",
    "# Print the length (number of rows) of the DataFrame\n",
    "print(\"Number of Rows in the dataframe:\", len(twitter_data))\n",
    "# Print the number of columns in the DataFrame\n",
    "print(\"Number of Columns in the dataframe:\", len(twitter_data.columns))"
   ]
  },
  {
   "cell_type": "code",
   "execution_count": 7,
   "id": "d7ea0bc4",
   "metadata": {},
   "outputs": [
    {
     "name": "stdout",
     "output_type": "stream",
     "text": [
      "<class 'pandas.core.frame.DataFrame'>\n",
      "RangeIndex: 400000 entries, 0 to 399999\n",
      "Data columns (total 2 columns):\n",
      " #   Column     Non-Null Count   Dtype \n",
      "---  ------     --------------   ----- \n",
      " 0   sentiment  400000 non-null  int64 \n",
      " 1   text       399187 non-null  object\n",
      "dtypes: int64(1), object(1)\n",
      "memory usage: 6.1+ MB\n"
     ]
    }
   ],
   "source": [
    "twitter_data.info() "
   ]
  },
  {
   "cell_type": "code",
   "execution_count": 8,
   "id": "abc4dbaa",
   "metadata": {},
   "outputs": [],
   "source": [
    "twitter_data['sentiment'] = twitter_data['sentiment'].map({0:0,4:1})"
   ]
  },
  {
   "cell_type": "code",
   "execution_count": 9,
   "id": "280c464f",
   "metadata": {},
   "outputs": [],
   "source": [
    "twitter_data.dropna(inplace=True)"
   ]
  },
  {
   "cell_type": "code",
   "execution_count": 10,
   "id": "3ee72fe5",
   "metadata": {},
   "outputs": [
    {
     "name": "stdout",
     "output_type": "stream",
     "text": [
      "<class 'pandas.core.frame.DataFrame'>\n",
      "Index: 399187 entries, 0 to 399999\n",
      "Data columns (total 2 columns):\n",
      " #   Column     Non-Null Count   Dtype \n",
      "---  ------     --------------   ----- \n",
      " 0   sentiment  399187 non-null  int64 \n",
      " 1   text       399187 non-null  object\n",
      "dtypes: int64(1), object(1)\n",
      "memory usage: 9.1+ MB\n"
     ]
    }
   ],
   "source": [
    "twitter_data.info()"
   ]
  },
  {
   "cell_type": "markdown",
   "id": "4245ab32",
   "metadata": {},
   "source": [
    "<div style=\"text-align: center; background-color: yellow; padding: 10px;\">\n",
    "    <h2 style=\"font-weight: bold;\">TRAINING, DEVELOPMENT AND TESTING PHASE</h2>\n",
    "</div>"
   ]
  },
  {
   "cell_type": "markdown",
   "id": "bbc03c51",
   "metadata": {},
   "source": [
    "We will split the data into three sections: train, development and test. Our chosen ratio is 98/1/1 i.e. 98% for the training set, 1% for the development set and 1% for the testing set.\n",
    "* Train set: The dataset used for learning\n",
    "* Development Set: A validation/development dataset is a sample of data held back from training your model that is used to give an estimate of model skill while tuning model’s hyperparameters.\n",
    "* Test Set: The dataset used to assess the performance of a model."
   ]
  },
  {
   "cell_type": "code",
   "execution_count": 11,
   "id": "2aab3f51",
   "metadata": {},
   "outputs": [],
   "source": [
    "# Define all other columns except the target variable\n",
    "x = twitter_data['text'] \n",
    "# Define the target variable\n",
    "y = twitter_data['sentiment']"
   ]
  },
  {
   "cell_type": "code",
   "execution_count": 12,
   "id": "629365c4",
   "metadata": {},
   "outputs": [],
   "source": [
    "x_train, x_validation_and_test, y_train, y_validation_and_test = train_test_split(x, y, test_size = 0.02, random_state = 42)"
   ]
  },
  {
   "cell_type": "code",
   "execution_count": 13,
   "id": "aaa2b060",
   "metadata": {},
   "outputs": [],
   "source": [
    "x_validation, x_test, y_validation, y_test = train_test_split(x_validation_and_test, y_validation_and_test, \n",
    "                                                              test_size = 0.5, random_state = 42)"
   ]
  },
  {
   "cell_type": "code",
   "execution_count": 14,
   "id": "180334f8",
   "metadata": {},
   "outputs": [
    {
     "name": "stdout",
     "output_type": "stream",
     "text": [
      "Training set has 391203 entries, where 49.98 are positive and 50.02 are negative\n"
     ]
    }
   ],
   "source": [
    "print(\"Training set has {0} entries, where {1:.2f} are positive and {2:.2f} are negative\".\n",
    "      format(len(x_train),len(x_train[y_train==1])/len(x_train)*100, len(x_train[y_train==0])/len(x_train)*100))"
   ]
  },
  {
   "cell_type": "code",
   "execution_count": 15,
   "id": "b13f96fe",
   "metadata": {},
   "outputs": [
    {
     "name": "stdout",
     "output_type": "stream",
     "text": [
      "Validation set has 3992 entries, where 51.13 are positive and 48.87 are negative\n"
     ]
    }
   ],
   "source": [
    "print(\"Validation set has {0} entries, where {1:.2f} are positive and {2:.2f} are negative\".\n",
    "      format(len(x_validation),len(x_validation[y_validation==1])/len(x_validation)*100, \n",
    "             len(x_validation[y_validation==0])/len(x_validation)*100))"
   ]
  },
  {
   "cell_type": "code",
   "execution_count": 16,
   "id": "c3d7b1e0",
   "metadata": {},
   "outputs": [
    {
     "name": "stdout",
     "output_type": "stream",
     "text": [
      "Testing set has 3992 entries, where 50.38 are positive and 49.62 are negative\n"
     ]
    }
   ],
   "source": [
    "print(\"Testing set has {0} entries, where {1:.2f} are positive and {2:.2f} are negative\".\n",
    "      format(len(x_test),len(x_test[y_test==1])/len(x_test)*100, \n",
    "             len(x_test[y_test==0])/len(x_test)*100))"
   ]
  },
  {
   "cell_type": "markdown",
   "id": "571f6fa9",
   "metadata": {},
   "source": [
    "<div style=\"text-align: center; background-color: yellow; padding: 10px;\">\n",
    "    <h2 style=\"font-weight: bold;\">BASELINE</h2>\n",
    "</div>"
   ]
  },
  {
   "cell_type": "markdown",
   "id": "a664edc7",
   "metadata": {},
   "source": [
    "<br>\n",
    "<span style=\"color: yellow; background-color: black; font-weight: bold; padding: 5px; font-size: 32px;\"> TextBlob </span>\n",
    "</br>"
   ]
  },
  {
   "cell_type": "markdown",
   "id": "410a70c0",
   "metadata": {},
   "source": [
    "We will use the sentiment analysis function of TextBlob as baseline for our project. It will provide us a point of reference to compare our future models."
   ]
  },
  {
   "cell_type": "code",
   "execution_count": 17,
   "id": "dac7dd35",
   "metadata": {},
   "outputs": [],
   "source": [
    "tbresult = []\n",
    "for i in x_validation:\n",
    "    tbresult.append(TextBlob(i).sentiment.polarity)"
   ]
  },
  {
   "cell_type": "code",
   "execution_count": 18,
   "id": "c4511342",
   "metadata": {},
   "outputs": [],
   "source": [
    "tbpred = []\n",
    "for i in tbresult:\n",
    "    if i<0:\n",
    "        tbpred.append(0)\n",
    "    else:\n",
    "        tbpred.append(1)    "
   ]
  },
  {
   "cell_type": "code",
   "execution_count": 19,
   "id": "91f2d1cc",
   "metadata": {},
   "outputs": [],
   "source": [
    "# Assuming y_validation and tbpred are your actual and predicted labels, respectively\n",
    "conmat = np.array(confusion_matrix(y_validation, tbpred, labels=[1, 0]))\n",
    "confusion = pd.DataFrame(conmat, index=['positive', 'negative'], columns=['predicted_positive', 'predicted_negative'])"
   ]
  },
  {
   "cell_type": "code",
   "execution_count": 20,
   "id": "06a30ecf",
   "metadata": {},
   "outputs": [
    {
     "name": "stdout",
     "output_type": "stream",
     "text": [
      "Confusion Matrix:\n",
      "          predicted_positive  predicted_negative\n",
      "positive                1829                 212\n",
      "negative                1297                 654\n"
     ]
    }
   ],
   "source": [
    "# Printing the confusion matrix\n",
    "print(\"Confusion Matrix:\")\n",
    "print(confusion)"
   ]
  },
  {
   "cell_type": "code",
   "execution_count": 21,
   "id": "84884e9c",
   "metadata": {},
   "outputs": [
    {
     "name": "stdout",
     "output_type": "stream",
     "text": [
      "Accuracy score: 62.20 %\n"
     ]
    }
   ],
   "source": [
    "# Calculating and printing the accuracy score\n",
    "accuracy = accuracy_score(y_validation, tbpred)\n",
    "print(\"Accuracy score: {0:.2f} %\".format(accuracy * 100))"
   ]
  },
  {
   "cell_type": "code",
   "execution_count": 22,
   "id": "7aa7785d",
   "metadata": {},
   "outputs": [
    {
     "name": "stdout",
     "output_type": "stream",
     "text": [
      "Classification Report\n",
      "              precision    recall  f1-score   support\n",
      "\n",
      "           0       0.76      0.34      0.46      1951\n",
      "           1       0.59      0.90      0.71      2041\n",
      "\n",
      "    accuracy                           0.62      3992\n",
      "   macro avg       0.67      0.62      0.59      3992\n",
      "weighted avg       0.67      0.62      0.59      3992\n",
      "\n"
     ]
    }
   ],
   "source": [
    "print(\"Classification Report\")\n",
    "print(classification_report(y_validation, tbpred))"
   ]
  },
  {
   "cell_type": "markdown",
   "id": "3467e0cf",
   "metadata": {},
   "source": [
    "Hence, TextBlob sentiment analysis yielded 62.20% accuracy on the validation set."
   ]
  },
  {
   "cell_type": "markdown",
   "id": "e1190ef3",
   "metadata": {},
   "source": [
    "<div style=\"text-align: center; background-color: yellow; padding: 10px;\">\n",
    "    <h2 style=\"font-weight: bold;\">FEATURE EXTRACTION</h2>\n",
    "</div>"
   ]
  },
  {
   "cell_type": "code",
   "execution_count": 23,
   "id": "27d9507a",
   "metadata": {},
   "outputs": [],
   "source": [
    "null_accuracy = 0\n",
    "def accuracy_summary(pipeline, x_train, y_train, x_test, y_test):\n",
    "    if len(x_test[y_test==0])/len(x_test)>0.5:\n",
    "        null_accuracy = len(x_test[y_test==0])/len(x_test)\n",
    "    else:\n",
    "        null_accuracy = 1 - len(x_test[y_test==0])/len(x_test)\n",
    "    t0 = time()\n",
    "    sentiment_fit = pipeline.fit(x_train, y_train)\n",
    "    y_pred = sentiment_fit.predict(x_test)\n",
    "    train_test_time = time() - t0\n",
    "    accuracy = accuracy_score(y_test, y_pred)\n",
    "    print(\"Null accuracy: {0:.2f}%\".format(null_accuracy*100))\n",
    "    print(\"Accuracy: {0:.2f}%\".format(accuracy*100))\n",
    "    if accuracy>null_accuracy:\n",
    "        print(\"Model is {0:.2f}% more accurate than null accuracy\".format((accuracy-null_accuracy)*100))\n",
    "    elif accuracy==null_accuracy:\n",
    "        print(\"Model has the same accuracy as null accuracy\")\n",
    "    else:\n",
    "        print(\"Model is {0:.2f}% less accurate than null accuracy\".format((null_accuracy-accuracy)*100))\n",
    "    print(\"Train and test time: {0:.2f}s\".format(train_test_time))\n",
    "    print(\"-\"*50)\n",
    "    return accuracy, train_test_time"
   ]
  },
  {
   "cell_type": "code",
   "execution_count": 24,
   "id": "4451eead",
   "metadata": {},
   "outputs": [],
   "source": [
    "cvec = CountVectorizer()\n",
    "lr = LogisticRegression()\n",
    "n_features = np.arange(10000, 100001, 10000)"
   ]
  },
  {
   "cell_type": "code",
   "execution_count": 25,
   "id": "01876cda",
   "metadata": {},
   "outputs": [],
   "source": [
    "def nfeature_accuracy_checker(vectorizer = cvec, n_features = n_features, stop_words = None, \n",
    "                              ngram_range = (1,1), classifier = lr):\n",
    "    result = []\n",
    "    print(classifier, \"\\n\")\n",
    "    for n in n_features:\n",
    "        vectorizer.set_params(stop_words = stop_words, max_features = n, ngram_range=ngram_range)\n",
    "        checker_pipeline = Pipeline([('vectorizer', vectorizer), ('classifier', classifier)])\n",
    "        print(\"Validation result for {0} features\".format(n))\n",
    "        nfeature_accuracy, ttime = accuracy_summary(checker_pipeline, x_train, y_train, x_validation, y_validation)\n",
    "        result.append((n, nfeature_accuracy, ttime))\n",
    "    return result"
   ]
  },
  {
   "cell_type": "markdown",
   "id": "b5a10b01",
   "metadata": {},
   "source": [
    "<br>\n",
    "<span style=\"color: yellow; background-color: black; font-weight: bold; padding: 5px; font-size: 32px;\"> UNIGRAM </span>\n",
    "</br>"
   ]
  },
  {
   "cell_type": "markdown",
   "id": "26ad6842",
   "metadata": {},
   "source": [
    "<br>\n",
    "<span style=\"color: blue; background-color: white; font-weight: bold; padding: 5px; font-size: 24px;\"> WITHOUT STOPWORDS </span>\n",
    "</br>"
   ]
  },
  {
   "cell_type": "code",
   "execution_count": 26,
   "id": "88330c75",
   "metadata": {},
   "outputs": [
    {
     "name": "stdout",
     "output_type": "stream",
     "text": [
      "RESULT FOR UNIGRAM WITHOUT STOP WORDS\n",
      "\n",
      "LogisticRegression() \n",
      "\n",
      "Validation result for 10000 features\n",
      "Null accuracy: 51.13%\n",
      "Accuracy: 75.85%\n",
      "Model is 24.72% more accurate than null accuracy\n",
      "Train and test time: 6.22s\n",
      "--------------------------------------------------\n",
      "Validation result for 20000 features\n",
      "Null accuracy: 51.13%\n",
      "Accuracy: 76.38%\n",
      "Model is 25.25% more accurate than null accuracy\n",
      "Train and test time: 6.48s\n",
      "--------------------------------------------------\n",
      "Validation result for 30000 features\n",
      "Null accuracy: 51.13%\n",
      "Accuracy: 76.33%\n",
      "Model is 25.20% more accurate than null accuracy\n",
      "Train and test time: 6.61s\n",
      "--------------------------------------------------\n",
      "Validation result for 40000 features\n",
      "Null accuracy: 51.13%\n",
      "Accuracy: 76.60%\n",
      "Model is 25.48% more accurate than null accuracy\n",
      "Train and test time: 6.70s\n",
      "--------------------------------------------------\n",
      "Validation result for 50000 features\n",
      "Null accuracy: 51.13%\n",
      "Accuracy: 76.38%\n",
      "Model is 25.25% more accurate than null accuracy\n",
      "Train and test time: 6.81s\n",
      "--------------------------------------------------\n",
      "Validation result for 60000 features\n",
      "Null accuracy: 51.13%\n",
      "Accuracy: 76.28%\n",
      "Model is 25.15% more accurate than null accuracy\n",
      "Train and test time: 7.30s\n",
      "--------------------------------------------------\n",
      "Validation result for 70000 features\n",
      "Null accuracy: 51.13%\n",
      "Accuracy: 76.18%\n",
      "Model is 25.05% more accurate than null accuracy\n",
      "Train and test time: 8.26s\n",
      "--------------------------------------------------\n",
      "Validation result for 80000 features\n",
      "Null accuracy: 51.13%\n",
      "Accuracy: 76.25%\n",
      "Model is 25.13% more accurate than null accuracy\n",
      "Train and test time: 7.64s\n",
      "--------------------------------------------------\n",
      "Validation result for 90000 features\n",
      "Null accuracy: 51.13%\n",
      "Accuracy: 76.38%\n",
      "Model is 25.25% more accurate than null accuracy\n",
      "Train and test time: 7.73s\n",
      "--------------------------------------------------\n",
      "Validation result for 100000 features\n",
      "Null accuracy: 51.13%\n",
      "Accuracy: 76.20%\n",
      "Model is 25.08% more accurate than null accuracy\n",
      "Train and test time: 7.64s\n",
      "--------------------------------------------------\n",
      "CPU times: total: 48.6 s\n",
      "Wall time: 1min 11s\n"
     ]
    }
   ],
   "source": [
    "%%time\n",
    "print(\"RESULT FOR UNIGRAM WITHOUT STOP WORDS\\n\")\n",
    "feature_result_unigram = nfeature_accuracy_checker(stop_words='english')"
   ]
  },
  {
   "cell_type": "markdown",
   "id": "f04b5537",
   "metadata": {},
   "source": [
    "<br>\n",
    "<span style=\"color: blue; background-color: white; font-weight: bold; padding: 5px; font-size: 24px;\"> WITH STOPWORDS </span>\n",
    "</br>"
   ]
  },
  {
   "cell_type": "code",
   "execution_count": 27,
   "id": "3df3ee96",
   "metadata": {},
   "outputs": [
    {
     "name": "stdout",
     "output_type": "stream",
     "text": [
      "RESULT FOR UNIGRAM WITH STOP WORDS\n",
      "\n",
      "LogisticRegression() \n",
      "\n",
      "Validation result for 10000 features\n",
      "Null accuracy: 51.13%\n",
      "Accuracy: 79.11%\n",
      "Model is 27.98% more accurate than null accuracy\n",
      "Train and test time: 7.59s\n",
      "--------------------------------------------------\n",
      "Validation result for 20000 features\n",
      "Null accuracy: 51.13%\n",
      "Accuracy: 79.13%\n",
      "Model is 28.01% more accurate than null accuracy\n",
      "Train and test time: 7.22s\n",
      "--------------------------------------------------\n",
      "Validation result for 30000 features\n",
      "Null accuracy: 51.13%\n",
      "Accuracy: 79.38%\n",
      "Model is 28.26% more accurate than null accuracy\n",
      "Train and test time: 7.34s\n",
      "--------------------------------------------------\n",
      "Validation result for 40000 features\n",
      "Null accuracy: 51.13%\n",
      "Accuracy: 79.28%\n",
      "Model is 28.16% more accurate than null accuracy\n",
      "Train and test time: 7.15s\n",
      "--------------------------------------------------\n",
      "Validation result for 50000 features\n",
      "Null accuracy: 51.13%\n",
      "Accuracy: 79.18%\n",
      "Model is 28.06% more accurate than null accuracy\n",
      "Train and test time: 7.41s\n",
      "--------------------------------------------------\n",
      "Validation result for 60000 features\n",
      "Null accuracy: 51.13%\n",
      "Accuracy: 79.33%\n",
      "Model is 28.21% more accurate than null accuracy\n",
      "Train and test time: 7.45s\n",
      "--------------------------------------------------\n",
      "Validation result for 70000 features\n",
      "Null accuracy: 51.13%\n",
      "Accuracy: 79.08%\n",
      "Model is 27.96% more accurate than null accuracy\n",
      "Train and test time: 7.67s\n",
      "--------------------------------------------------\n",
      "Validation result for 80000 features\n",
      "Null accuracy: 51.13%\n",
      "Accuracy: 79.38%\n",
      "Model is 28.26% more accurate than null accuracy\n",
      "Train and test time: 7.62s\n",
      "--------------------------------------------------\n",
      "Validation result for 90000 features\n",
      "Null accuracy: 51.13%\n",
      "Accuracy: 79.21%\n",
      "Model is 28.08% more accurate than null accuracy\n",
      "Train and test time: 7.84s\n",
      "--------------------------------------------------\n",
      "Validation result for 100000 features\n",
      "Null accuracy: 51.13%\n",
      "Accuracy: 79.21%\n",
      "Model is 28.08% more accurate than null accuracy\n",
      "Train and test time: 8.10s\n",
      "--------------------------------------------------\n",
      "CPU times: total: 54.5 s\n",
      "Wall time: 1min 15s\n"
     ]
    }
   ],
   "source": [
    "%%time\n",
    "print(\"RESULT FOR UNIGRAM WITH STOP WORDS\\n\")\n",
    "feature_result_unigram_stop = nfeature_accuracy_checker()"
   ]
  },
  {
   "cell_type": "code",
   "execution_count": 28,
   "id": "57895837",
   "metadata": {},
   "outputs": [],
   "source": [
    "# Reading the dataset with no columns titles and with latin encoding \n",
    "term_freq_df = pd.read_csv('twitter_term_frequency_data.csv', encoding = \"ISO-8859-1\")"
   ]
  },
  {
   "cell_type": "code",
   "execution_count": 29,
   "id": "ad6d81eb",
   "metadata": {},
   "outputs": [
    {
     "data": {
      "text/html": [
       "<style type=\"text/css\">\n",
       "#T_fc0fb_row0_col0, #T_fc0fb_row0_col1, #T_fc0fb_row0_col2, #T_fc0fb_row0_col3, #T_fc0fb_row1_col0, #T_fc0fb_row1_col1, #T_fc0fb_row1_col2, #T_fc0fb_row1_col3, #T_fc0fb_row2_col0, #T_fc0fb_row2_col1, #T_fc0fb_row2_col2, #T_fc0fb_row2_col3, #T_fc0fb_row3_col0, #T_fc0fb_row3_col1, #T_fc0fb_row3_col2, #T_fc0fb_row3_col3, #T_fc0fb_row4_col0, #T_fc0fb_row4_col1, #T_fc0fb_row4_col2, #T_fc0fb_row4_col3 {\n",
       "  background-color: #E9F6E2;\n",
       "  color: black;\n",
       "  border-color: #8b8c8c;\n",
       "}\n",
       "</style>\n",
       "<table id=\"T_fc0fb\">\n",
       "  <thead>\n",
       "    <tr>\n",
       "      <th class=\"blank level0\" >&nbsp;</th>\n",
       "      <th id=\"T_fc0fb_level0_col0\" class=\"col_heading level0 col0\" >word</th>\n",
       "      <th id=\"T_fc0fb_level0_col1\" class=\"col_heading level0 col1\" >negative</th>\n",
       "      <th id=\"T_fc0fb_level0_col2\" class=\"col_heading level0 col2\" >positive</th>\n",
       "      <th id=\"T_fc0fb_level0_col3\" class=\"col_heading level0 col3\" >total</th>\n",
       "    </tr>\n",
       "  </thead>\n",
       "  <tbody>\n",
       "    <tr>\n",
       "      <th id=\"T_fc0fb_level0_row0\" class=\"row_heading level0 row0\" >0</th>\n",
       "      <td id=\"T_fc0fb_row0_col0\" class=\"data row0 col0\" >aa</td>\n",
       "      <td id=\"T_fc0fb_row0_col1\" class=\"data row0 col1\" >45</td>\n",
       "      <td id=\"T_fc0fb_row0_col2\" class=\"data row0 col2\" >23</td>\n",
       "      <td id=\"T_fc0fb_row0_col3\" class=\"data row0 col3\" >68</td>\n",
       "    </tr>\n",
       "    <tr>\n",
       "      <th id=\"T_fc0fb_level0_row1\" class=\"row_heading level0 row1\" >1</th>\n",
       "      <td id=\"T_fc0fb_row1_col0\" class=\"data row1 col0\" >aaa</td>\n",
       "      <td id=\"T_fc0fb_row1_col1\" class=\"data row1 col1\" >23</td>\n",
       "      <td id=\"T_fc0fb_row1_col2\" class=\"data row1 col2\" >12</td>\n",
       "      <td id=\"T_fc0fb_row1_col3\" class=\"data row1 col3\" >35</td>\n",
       "    </tr>\n",
       "    <tr>\n",
       "      <th id=\"T_fc0fb_level0_row2\" class=\"row_heading level0 row2\" >2</th>\n",
       "      <td id=\"T_fc0fb_row2_col0\" class=\"data row2 col0\" >aaaa</td>\n",
       "      <td id=\"T_fc0fb_row2_col1\" class=\"data row2 col1\" >10</td>\n",
       "      <td id=\"T_fc0fb_row2_col2\" class=\"data row2 col2\" >6</td>\n",
       "      <td id=\"T_fc0fb_row2_col3\" class=\"data row2 col3\" >16</td>\n",
       "    </tr>\n",
       "    <tr>\n",
       "      <th id=\"T_fc0fb_level0_row3\" class=\"row_heading level0 row3\" >3</th>\n",
       "      <td id=\"T_fc0fb_row3_col0\" class=\"data row3 col0\" >aaaaa</td>\n",
       "      <td id=\"T_fc0fb_row3_col1\" class=\"data row3 col1\" >5</td>\n",
       "      <td id=\"T_fc0fb_row3_col2\" class=\"data row3 col2\" >3</td>\n",
       "      <td id=\"T_fc0fb_row3_col3\" class=\"data row3 col3\" >8</td>\n",
       "    </tr>\n",
       "    <tr>\n",
       "      <th id=\"T_fc0fb_level0_row4\" class=\"row_heading level0 row4\" >4</th>\n",
       "      <td id=\"T_fc0fb_row4_col0\" class=\"data row4 col0\" >aaaaaa</td>\n",
       "      <td id=\"T_fc0fb_row4_col1\" class=\"data row4 col1\" >4</td>\n",
       "      <td id=\"T_fc0fb_row4_col2\" class=\"data row4 col2\" >5</td>\n",
       "      <td id=\"T_fc0fb_row4_col3\" class=\"data row4 col3\" >9</td>\n",
       "    </tr>\n",
       "  </tbody>\n",
       "</table>\n"
      ],
      "text/plain": [
       "<pandas.io.formats.style.Styler at 0x1df6006f700>"
      ]
     },
     "execution_count": 29,
     "metadata": {},
     "output_type": "execute_result"
    }
   ],
   "source": [
    "# Print bottom 5 rows in the dataframe.\n",
    "term_freq_df.head().style.set_properties(**{'background-color': '#E9F6E2','color': 'black','border-color': '#8b8c8c'})"
   ]
  },
  {
   "cell_type": "code",
   "execution_count": 30,
   "id": "50340dc3",
   "metadata": {},
   "outputs": [
    {
     "name": "stdout",
     "output_type": "stream",
     "text": [
      "<class 'pandas.core.frame.DataFrame'>\n",
      "RangeIndex: 118312 entries, 0 to 118311\n",
      "Data columns (total 4 columns):\n",
      " #   Column    Non-Null Count   Dtype \n",
      "---  ------    --------------   ----- \n",
      " 0   word      118310 non-null  object\n",
      " 1   negative  118312 non-null  int64 \n",
      " 2   positive  118312 non-null  int64 \n",
      " 3   total     118312 non-null  int64 \n",
      "dtypes: int64(3), object(1)\n",
      "memory usage: 3.6+ MB\n"
     ]
    }
   ],
   "source": [
    "term_freq_df.info()"
   ]
  },
  {
   "cell_type": "code",
   "execution_count": 31,
   "id": "c56ead8d",
   "metadata": {},
   "outputs": [
    {
     "data": {
      "text/html": [
       "<div>\n",
       "<style scoped>\n",
       "    .dataframe tbody tr th:only-of-type {\n",
       "        vertical-align: middle;\n",
       "    }\n",
       "\n",
       "    .dataframe tbody tr th {\n",
       "        vertical-align: top;\n",
       "    }\n",
       "\n",
       "    .dataframe thead th {\n",
       "        text-align: right;\n",
       "    }\n",
       "</style>\n",
       "<table border=\"1\" class=\"dataframe\">\n",
       "  <thead>\n",
       "    <tr style=\"text-align: right;\">\n",
       "      <th></th>\n",
       "      <th>word</th>\n",
       "      <th>negative</th>\n",
       "      <th>positive</th>\n",
       "      <th>total</th>\n",
       "    </tr>\n",
       "  </thead>\n",
       "  <tbody>\n",
       "    <tr>\n",
       "      <th>104018</th>\n",
       "      <td>to</td>\n",
       "      <td>78026</td>\n",
       "      <td>63169</td>\n",
       "      <td>141195</td>\n",
       "    </tr>\n",
       "    <tr>\n",
       "      <th>102384</th>\n",
       "      <td>the</td>\n",
       "      <td>64676</td>\n",
       "      <td>66278</td>\n",
       "      <td>130954</td>\n",
       "    </tr>\n",
       "    <tr>\n",
       "      <th>68562</th>\n",
       "      <td>my</td>\n",
       "      <td>48048</td>\n",
       "      <td>31387</td>\n",
       "      <td>79435</td>\n",
       "    </tr>\n",
       "    <tr>\n",
       "      <th>51311</th>\n",
       "      <td>it</td>\n",
       "      <td>39520</td>\n",
       "      <td>36896</td>\n",
       "      <td>76416</td>\n",
       "    </tr>\n",
       "    <tr>\n",
       "      <th>3764</th>\n",
       "      <td>and</td>\n",
       "      <td>38529</td>\n",
       "      <td>37495</td>\n",
       "      <td>76024</td>\n",
       "    </tr>\n",
       "    <tr>\n",
       "      <th>117285</th>\n",
       "      <td>you</td>\n",
       "      <td>26060</td>\n",
       "      <td>49705</td>\n",
       "      <td>75765</td>\n",
       "    </tr>\n",
       "    <tr>\n",
       "      <th>71680</th>\n",
       "      <td>not</td>\n",
       "      <td>49426</td>\n",
       "      <td>21870</td>\n",
       "      <td>71296</td>\n",
       "    </tr>\n",
       "    <tr>\n",
       "      <th>51106</th>\n",
       "      <td>is</td>\n",
       "      <td>33384</td>\n",
       "      <td>27617</td>\n",
       "      <td>61001</td>\n",
       "    </tr>\n",
       "    <tr>\n",
       "      <th>49471</th>\n",
       "      <td>in</td>\n",
       "      <td>28829</td>\n",
       "      <td>25231</td>\n",
       "      <td>54060</td>\n",
       "    </tr>\n",
       "    <tr>\n",
       "      <th>36839</th>\n",
       "      <td>for</td>\n",
       "      <td>24852</td>\n",
       "      <td>29027</td>\n",
       "      <td>53879</td>\n",
       "    </tr>\n",
       "  </tbody>\n",
       "</table>\n",
       "</div>"
      ],
      "text/plain": [
       "       word  negative  positive   total\n",
       "104018   to     78026     63169  141195\n",
       "102384  the     64676     66278  130954\n",
       "68562    my     48048     31387   79435\n",
       "51311    it     39520     36896   76416\n",
       "3764    and     38529     37495   76024\n",
       "117285  you     26060     49705   75765\n",
       "71680   not     49426     21870   71296\n",
       "51106    is     33384     27617   61001\n",
       "49471    in     28829     25231   54060\n",
       "36839   for     24852     29027   53879"
      ]
     },
     "execution_count": 31,
     "metadata": {},
     "output_type": "execute_result"
    }
   ],
   "source": [
    "term_freq_df.sort_values(by='total', ascending=False).head(10)"
   ]
  },
  {
   "cell_type": "code",
   "execution_count": 32,
   "id": "efb5fee6",
   "metadata": {},
   "outputs": [
    {
     "data": {
      "text/plain": [
       "False"
      ]
     },
     "execution_count": 32,
     "metadata": {},
     "output_type": "execute_result"
    }
   ],
   "source": [
    "a = frozenset(list(term_freq_df.sort_values(by='total', ascending=False).iloc[:10].index))\n",
    "b = text.ENGLISH_STOP_WORDS\n",
    "set(a).issubset(set(b))"
   ]
  },
  {
   "cell_type": "code",
   "execution_count": 33,
   "id": "724d87fb",
   "metadata": {},
   "outputs": [],
   "source": [
    "my_stop_words = a"
   ]
  },
  {
   "cell_type": "markdown",
   "id": "fea82228",
   "metadata": {},
   "source": [
    "<br>\n",
    "<span style=\"color: blue; background-color: white; font-weight: bold; padding: 5px; font-size: 24px;\"> WITHOUT CUSTOM STOPWORDS </span>\n",
    "</br>"
   ]
  },
  {
   "cell_type": "code",
   "execution_count": 34,
   "id": "28b795eb",
   "metadata": {},
   "outputs": [
    {
     "name": "stdout",
     "output_type": "stream",
     "text": [
      "RESULT FOR UNIGRAM WITHOUT CUSTOM STOP WORDS\n",
      "\n",
      "LogisticRegression() \n",
      "\n",
      "Validation result for 10000 features\n"
     ]
    },
    {
     "ename": "InvalidParameterError",
     "evalue": "The 'stop_words' parameter of CountVectorizer must be a str among {'english'}, an instance of 'list' or None. Got frozenset({71680, 51106, 117285, 36839, 51311, 102384, 68562, 104018, 3764, 49471}) instead.",
     "output_type": "error",
     "traceback": [
      "\u001b[1;31m---------------------------------------------------------------------------\u001b[0m",
      "\u001b[1;31mInvalidParameterError\u001b[0m                     Traceback (most recent call last)",
      "File \u001b[1;32m<timed exec>:2\u001b[0m\n",
      "Cell \u001b[1;32mIn[25], line 9\u001b[0m, in \u001b[0;36mnfeature_accuracy_checker\u001b[1;34m(vectorizer, n_features, stop_words, ngram_range, classifier)\u001b[0m\n\u001b[0;32m      7\u001b[0m     checker_pipeline \u001b[38;5;241m=\u001b[39m Pipeline([(\u001b[38;5;124m'\u001b[39m\u001b[38;5;124mvectorizer\u001b[39m\u001b[38;5;124m'\u001b[39m, vectorizer), (\u001b[38;5;124m'\u001b[39m\u001b[38;5;124mclassifier\u001b[39m\u001b[38;5;124m'\u001b[39m, classifier)])\n\u001b[0;32m      8\u001b[0m     \u001b[38;5;28mprint\u001b[39m(\u001b[38;5;124m\"\u001b[39m\u001b[38;5;124mValidation result for \u001b[39m\u001b[38;5;132;01m{0}\u001b[39;00m\u001b[38;5;124m features\u001b[39m\u001b[38;5;124m\"\u001b[39m\u001b[38;5;241m.\u001b[39mformat(n))\n\u001b[1;32m----> 9\u001b[0m     nfeature_accuracy, ttime \u001b[38;5;241m=\u001b[39m \u001b[43maccuracy_summary\u001b[49m\u001b[43m(\u001b[49m\u001b[43mchecker_pipeline\u001b[49m\u001b[43m,\u001b[49m\u001b[43m \u001b[49m\u001b[43mx_train\u001b[49m\u001b[43m,\u001b[49m\u001b[43m \u001b[49m\u001b[43my_train\u001b[49m\u001b[43m,\u001b[49m\u001b[43m \u001b[49m\u001b[43mx_validation\u001b[49m\u001b[43m,\u001b[49m\u001b[43m \u001b[49m\u001b[43my_validation\u001b[49m\u001b[43m)\u001b[49m\n\u001b[0;32m     10\u001b[0m     result\u001b[38;5;241m.\u001b[39mappend((n, nfeature_accuracy, ttime))\n\u001b[0;32m     11\u001b[0m \u001b[38;5;28;01mreturn\u001b[39;00m result\n",
      "Cell \u001b[1;32mIn[23], line 8\u001b[0m, in \u001b[0;36maccuracy_summary\u001b[1;34m(pipeline, x_train, y_train, x_test, y_test)\u001b[0m\n\u001b[0;32m      6\u001b[0m     null_accuracy \u001b[38;5;241m=\u001b[39m \u001b[38;5;241m1\u001b[39m \u001b[38;5;241m-\u001b[39m \u001b[38;5;28mlen\u001b[39m(x_test[y_test\u001b[38;5;241m==\u001b[39m\u001b[38;5;241m0\u001b[39m])\u001b[38;5;241m/\u001b[39m\u001b[38;5;28mlen\u001b[39m(x_test)\n\u001b[0;32m      7\u001b[0m t0 \u001b[38;5;241m=\u001b[39m time()\n\u001b[1;32m----> 8\u001b[0m sentiment_fit \u001b[38;5;241m=\u001b[39m \u001b[43mpipeline\u001b[49m\u001b[38;5;241;43m.\u001b[39;49m\u001b[43mfit\u001b[49m\u001b[43m(\u001b[49m\u001b[43mx_train\u001b[49m\u001b[43m,\u001b[49m\u001b[43m \u001b[49m\u001b[43my_train\u001b[49m\u001b[43m)\u001b[49m\n\u001b[0;32m      9\u001b[0m y_pred \u001b[38;5;241m=\u001b[39m sentiment_fit\u001b[38;5;241m.\u001b[39mpredict(x_test)\n\u001b[0;32m     10\u001b[0m train_test_time \u001b[38;5;241m=\u001b[39m time() \u001b[38;5;241m-\u001b[39m t0\n",
      "File \u001b[1;32m~\\AppData\\Local\\Packages\\PythonSoftwareFoundation.Python.3.10_qbz5n2kfra8p0\\LocalCache\\local-packages\\Python310\\site-packages\\sklearn\\base.py:1473\u001b[0m, in \u001b[0;36m_fit_context.<locals>.decorator.<locals>.wrapper\u001b[1;34m(estimator, *args, **kwargs)\u001b[0m\n\u001b[0;32m   1466\u001b[0m     estimator\u001b[38;5;241m.\u001b[39m_validate_params()\n\u001b[0;32m   1468\u001b[0m \u001b[38;5;28;01mwith\u001b[39;00m config_context(\n\u001b[0;32m   1469\u001b[0m     skip_parameter_validation\u001b[38;5;241m=\u001b[39m(\n\u001b[0;32m   1470\u001b[0m         prefer_skip_nested_validation \u001b[38;5;129;01mor\u001b[39;00m global_skip_validation\n\u001b[0;32m   1471\u001b[0m     )\n\u001b[0;32m   1472\u001b[0m ):\n\u001b[1;32m-> 1473\u001b[0m     \u001b[38;5;28;01mreturn\u001b[39;00m fit_method(estimator, \u001b[38;5;241m*\u001b[39margs, \u001b[38;5;241m*\u001b[39m\u001b[38;5;241m*\u001b[39mkwargs)\n",
      "File \u001b[1;32m~\\AppData\\Local\\Packages\\PythonSoftwareFoundation.Python.3.10_qbz5n2kfra8p0\\LocalCache\\local-packages\\Python310\\site-packages\\sklearn\\pipeline.py:469\u001b[0m, in \u001b[0;36mPipeline.fit\u001b[1;34m(self, X, y, **params)\u001b[0m\n\u001b[0;32m    426\u001b[0m \u001b[38;5;250m\u001b[39m\u001b[38;5;124;03m\"\"\"Fit the model.\u001b[39;00m\n\u001b[0;32m    427\u001b[0m \n\u001b[0;32m    428\u001b[0m \u001b[38;5;124;03mFit all the transformers one after the other and sequentially transform the\u001b[39;00m\n\u001b[1;32m   (...)\u001b[0m\n\u001b[0;32m    466\u001b[0m \u001b[38;5;124;03m    Pipeline with fitted steps.\u001b[39;00m\n\u001b[0;32m    467\u001b[0m \u001b[38;5;124;03m\"\"\"\u001b[39;00m\n\u001b[0;32m    468\u001b[0m routed_params \u001b[38;5;241m=\u001b[39m \u001b[38;5;28mself\u001b[39m\u001b[38;5;241m.\u001b[39m_check_method_params(method\u001b[38;5;241m=\u001b[39m\u001b[38;5;124m\"\u001b[39m\u001b[38;5;124mfit\u001b[39m\u001b[38;5;124m\"\u001b[39m, props\u001b[38;5;241m=\u001b[39mparams)\n\u001b[1;32m--> 469\u001b[0m Xt \u001b[38;5;241m=\u001b[39m \u001b[38;5;28;43mself\u001b[39;49m\u001b[38;5;241;43m.\u001b[39;49m\u001b[43m_fit\u001b[49m\u001b[43m(\u001b[49m\u001b[43mX\u001b[49m\u001b[43m,\u001b[49m\u001b[43m \u001b[49m\u001b[43my\u001b[49m\u001b[43m,\u001b[49m\u001b[43m \u001b[49m\u001b[43mrouted_params\u001b[49m\u001b[43m)\u001b[49m\n\u001b[0;32m    470\u001b[0m \u001b[38;5;28;01mwith\u001b[39;00m _print_elapsed_time(\u001b[38;5;124m\"\u001b[39m\u001b[38;5;124mPipeline\u001b[39m\u001b[38;5;124m\"\u001b[39m, \u001b[38;5;28mself\u001b[39m\u001b[38;5;241m.\u001b[39m_log_message(\u001b[38;5;28mlen\u001b[39m(\u001b[38;5;28mself\u001b[39m\u001b[38;5;241m.\u001b[39msteps) \u001b[38;5;241m-\u001b[39m \u001b[38;5;241m1\u001b[39m)):\n\u001b[0;32m    471\u001b[0m     \u001b[38;5;28;01mif\u001b[39;00m \u001b[38;5;28mself\u001b[39m\u001b[38;5;241m.\u001b[39m_final_estimator \u001b[38;5;241m!=\u001b[39m \u001b[38;5;124m\"\u001b[39m\u001b[38;5;124mpassthrough\u001b[39m\u001b[38;5;124m\"\u001b[39m:\n",
      "File \u001b[1;32m~\\AppData\\Local\\Packages\\PythonSoftwareFoundation.Python.3.10_qbz5n2kfra8p0\\LocalCache\\local-packages\\Python310\\site-packages\\sklearn\\pipeline.py:406\u001b[0m, in \u001b[0;36mPipeline._fit\u001b[1;34m(self, X, y, routed_params)\u001b[0m\n\u001b[0;32m    404\u001b[0m     cloned_transformer \u001b[38;5;241m=\u001b[39m clone(transformer)\n\u001b[0;32m    405\u001b[0m \u001b[38;5;66;03m# Fit or load from cache the current transformer\u001b[39;00m\n\u001b[1;32m--> 406\u001b[0m X, fitted_transformer \u001b[38;5;241m=\u001b[39m \u001b[43mfit_transform_one_cached\u001b[49m\u001b[43m(\u001b[49m\n\u001b[0;32m    407\u001b[0m \u001b[43m    \u001b[49m\u001b[43mcloned_transformer\u001b[49m\u001b[43m,\u001b[49m\n\u001b[0;32m    408\u001b[0m \u001b[43m    \u001b[49m\u001b[43mX\u001b[49m\u001b[43m,\u001b[49m\n\u001b[0;32m    409\u001b[0m \u001b[43m    \u001b[49m\u001b[43my\u001b[49m\u001b[43m,\u001b[49m\n\u001b[0;32m    410\u001b[0m \u001b[43m    \u001b[49m\u001b[38;5;28;43;01mNone\u001b[39;49;00m\u001b[43m,\u001b[49m\n\u001b[0;32m    411\u001b[0m \u001b[43m    \u001b[49m\u001b[43mmessage_clsname\u001b[49m\u001b[38;5;241;43m=\u001b[39;49m\u001b[38;5;124;43m\"\u001b[39;49m\u001b[38;5;124;43mPipeline\u001b[39;49m\u001b[38;5;124;43m\"\u001b[39;49m\u001b[43m,\u001b[49m\n\u001b[0;32m    412\u001b[0m \u001b[43m    \u001b[49m\u001b[43mmessage\u001b[49m\u001b[38;5;241;43m=\u001b[39;49m\u001b[38;5;28;43mself\u001b[39;49m\u001b[38;5;241;43m.\u001b[39;49m\u001b[43m_log_message\u001b[49m\u001b[43m(\u001b[49m\u001b[43mstep_idx\u001b[49m\u001b[43m)\u001b[49m\u001b[43m,\u001b[49m\n\u001b[0;32m    413\u001b[0m \u001b[43m    \u001b[49m\u001b[43mparams\u001b[49m\u001b[38;5;241;43m=\u001b[39;49m\u001b[43mrouted_params\u001b[49m\u001b[43m[\u001b[49m\u001b[43mname\u001b[49m\u001b[43m]\u001b[49m\u001b[43m,\u001b[49m\n\u001b[0;32m    414\u001b[0m \u001b[43m\u001b[49m\u001b[43m)\u001b[49m\n\u001b[0;32m    415\u001b[0m \u001b[38;5;66;03m# Replace the transformer of the step with the fitted\u001b[39;00m\n\u001b[0;32m    416\u001b[0m \u001b[38;5;66;03m# transformer. This is necessary when loading the transformer\u001b[39;00m\n\u001b[0;32m    417\u001b[0m \u001b[38;5;66;03m# from the cache.\u001b[39;00m\n\u001b[0;32m    418\u001b[0m \u001b[38;5;28mself\u001b[39m\u001b[38;5;241m.\u001b[39msteps[step_idx] \u001b[38;5;241m=\u001b[39m (name, fitted_transformer)\n",
      "File \u001b[1;32m~\\AppData\\Local\\Packages\\PythonSoftwareFoundation.Python.3.10_qbz5n2kfra8p0\\LocalCache\\local-packages\\Python310\\site-packages\\joblib\\memory.py:312\u001b[0m, in \u001b[0;36mNotMemorizedFunc.__call__\u001b[1;34m(self, *args, **kwargs)\u001b[0m\n\u001b[0;32m    311\u001b[0m \u001b[38;5;28;01mdef\u001b[39;00m \u001b[38;5;21m__call__\u001b[39m(\u001b[38;5;28mself\u001b[39m, \u001b[38;5;241m*\u001b[39margs, \u001b[38;5;241m*\u001b[39m\u001b[38;5;241m*\u001b[39mkwargs):\n\u001b[1;32m--> 312\u001b[0m     \u001b[38;5;28;01mreturn\u001b[39;00m \u001b[38;5;28mself\u001b[39m\u001b[38;5;241m.\u001b[39mfunc(\u001b[38;5;241m*\u001b[39margs, \u001b[38;5;241m*\u001b[39m\u001b[38;5;241m*\u001b[39mkwargs)\n",
      "File \u001b[1;32m~\\AppData\\Local\\Packages\\PythonSoftwareFoundation.Python.3.10_qbz5n2kfra8p0\\LocalCache\\local-packages\\Python310\\site-packages\\sklearn\\pipeline.py:1310\u001b[0m, in \u001b[0;36m_fit_transform_one\u001b[1;34m(transformer, X, y, weight, message_clsname, message, params)\u001b[0m\n\u001b[0;32m   1308\u001b[0m \u001b[38;5;28;01mwith\u001b[39;00m _print_elapsed_time(message_clsname, message):\n\u001b[0;32m   1309\u001b[0m     \u001b[38;5;28;01mif\u001b[39;00m \u001b[38;5;28mhasattr\u001b[39m(transformer, \u001b[38;5;124m\"\u001b[39m\u001b[38;5;124mfit_transform\u001b[39m\u001b[38;5;124m\"\u001b[39m):\n\u001b[1;32m-> 1310\u001b[0m         res \u001b[38;5;241m=\u001b[39m transformer\u001b[38;5;241m.\u001b[39mfit_transform(X, y, \u001b[38;5;241m*\u001b[39m\u001b[38;5;241m*\u001b[39mparams\u001b[38;5;241m.\u001b[39mget(\u001b[38;5;124m\"\u001b[39m\u001b[38;5;124mfit_transform\u001b[39m\u001b[38;5;124m\"\u001b[39m, {}))\n\u001b[0;32m   1311\u001b[0m     \u001b[38;5;28;01melse\u001b[39;00m:\n\u001b[0;32m   1312\u001b[0m         res \u001b[38;5;241m=\u001b[39m transformer\u001b[38;5;241m.\u001b[39mfit(X, y, \u001b[38;5;241m*\u001b[39m\u001b[38;5;241m*\u001b[39mparams\u001b[38;5;241m.\u001b[39mget(\u001b[38;5;124m\"\u001b[39m\u001b[38;5;124mfit\u001b[39m\u001b[38;5;124m\"\u001b[39m, {}))\u001b[38;5;241m.\u001b[39mtransform(\n\u001b[0;32m   1313\u001b[0m             X, \u001b[38;5;241m*\u001b[39m\u001b[38;5;241m*\u001b[39mparams\u001b[38;5;241m.\u001b[39mget(\u001b[38;5;124m\"\u001b[39m\u001b[38;5;124mtransform\u001b[39m\u001b[38;5;124m\"\u001b[39m, {})\n\u001b[0;32m   1314\u001b[0m         )\n",
      "File \u001b[1;32m~\\AppData\\Local\\Packages\\PythonSoftwareFoundation.Python.3.10_qbz5n2kfra8p0\\LocalCache\\local-packages\\Python310\\site-packages\\sklearn\\base.py:1466\u001b[0m, in \u001b[0;36m_fit_context.<locals>.decorator.<locals>.wrapper\u001b[1;34m(estimator, *args, **kwargs)\u001b[0m\n\u001b[0;32m   1461\u001b[0m partial_fit_and_fitted \u001b[38;5;241m=\u001b[39m (\n\u001b[0;32m   1462\u001b[0m     fit_method\u001b[38;5;241m.\u001b[39m\u001b[38;5;18m__name__\u001b[39m \u001b[38;5;241m==\u001b[39m \u001b[38;5;124m\"\u001b[39m\u001b[38;5;124mpartial_fit\u001b[39m\u001b[38;5;124m\"\u001b[39m \u001b[38;5;129;01mand\u001b[39;00m _is_fitted(estimator)\n\u001b[0;32m   1463\u001b[0m )\n\u001b[0;32m   1465\u001b[0m \u001b[38;5;28;01mif\u001b[39;00m \u001b[38;5;129;01mnot\u001b[39;00m global_skip_validation \u001b[38;5;129;01mand\u001b[39;00m \u001b[38;5;129;01mnot\u001b[39;00m partial_fit_and_fitted:\n\u001b[1;32m-> 1466\u001b[0m     \u001b[43mestimator\u001b[49m\u001b[38;5;241;43m.\u001b[39;49m\u001b[43m_validate_params\u001b[49m\u001b[43m(\u001b[49m\u001b[43m)\u001b[49m\n\u001b[0;32m   1468\u001b[0m \u001b[38;5;28;01mwith\u001b[39;00m config_context(\n\u001b[0;32m   1469\u001b[0m     skip_parameter_validation\u001b[38;5;241m=\u001b[39m(\n\u001b[0;32m   1470\u001b[0m         prefer_skip_nested_validation \u001b[38;5;129;01mor\u001b[39;00m global_skip_validation\n\u001b[0;32m   1471\u001b[0m     )\n\u001b[0;32m   1472\u001b[0m ):\n\u001b[0;32m   1473\u001b[0m     \u001b[38;5;28;01mreturn\u001b[39;00m fit_method(estimator, \u001b[38;5;241m*\u001b[39margs, \u001b[38;5;241m*\u001b[39m\u001b[38;5;241m*\u001b[39mkwargs)\n",
      "File \u001b[1;32m~\\AppData\\Local\\Packages\\PythonSoftwareFoundation.Python.3.10_qbz5n2kfra8p0\\LocalCache\\local-packages\\Python310\\site-packages\\sklearn\\base.py:666\u001b[0m, in \u001b[0;36mBaseEstimator._validate_params\u001b[1;34m(self)\u001b[0m\n\u001b[0;32m    658\u001b[0m \u001b[38;5;28;01mdef\u001b[39;00m \u001b[38;5;21m_validate_params\u001b[39m(\u001b[38;5;28mself\u001b[39m):\n\u001b[0;32m    659\u001b[0m \u001b[38;5;250m    \u001b[39m\u001b[38;5;124;03m\"\"\"Validate types and values of constructor parameters\u001b[39;00m\n\u001b[0;32m    660\u001b[0m \n\u001b[0;32m    661\u001b[0m \u001b[38;5;124;03m    The expected type and values must be defined in the `_parameter_constraints`\u001b[39;00m\n\u001b[1;32m   (...)\u001b[0m\n\u001b[0;32m    664\u001b[0m \u001b[38;5;124;03m    accepted constraints.\u001b[39;00m\n\u001b[0;32m    665\u001b[0m \u001b[38;5;124;03m    \"\"\"\u001b[39;00m\n\u001b[1;32m--> 666\u001b[0m     \u001b[43mvalidate_parameter_constraints\u001b[49m\u001b[43m(\u001b[49m\n\u001b[0;32m    667\u001b[0m \u001b[43m        \u001b[49m\u001b[38;5;28;43mself\u001b[39;49m\u001b[38;5;241;43m.\u001b[39;49m\u001b[43m_parameter_constraints\u001b[49m\u001b[43m,\u001b[49m\n\u001b[0;32m    668\u001b[0m \u001b[43m        \u001b[49m\u001b[38;5;28;43mself\u001b[39;49m\u001b[38;5;241;43m.\u001b[39;49m\u001b[43mget_params\u001b[49m\u001b[43m(\u001b[49m\u001b[43mdeep\u001b[49m\u001b[38;5;241;43m=\u001b[39;49m\u001b[38;5;28;43;01mFalse\u001b[39;49;00m\u001b[43m)\u001b[49m\u001b[43m,\u001b[49m\n\u001b[0;32m    669\u001b[0m \u001b[43m        \u001b[49m\u001b[43mcaller_name\u001b[49m\u001b[38;5;241;43m=\u001b[39;49m\u001b[38;5;28;43mself\u001b[39;49m\u001b[38;5;241;43m.\u001b[39;49m\u001b[38;5;18;43m__class__\u001b[39;49m\u001b[38;5;241;43m.\u001b[39;49m\u001b[38;5;18;43m__name__\u001b[39;49m\u001b[43m,\u001b[49m\n\u001b[0;32m    670\u001b[0m \u001b[43m    \u001b[49m\u001b[43m)\u001b[49m\n",
      "File \u001b[1;32m~\\AppData\\Local\\Packages\\PythonSoftwareFoundation.Python.3.10_qbz5n2kfra8p0\\LocalCache\\local-packages\\Python310\\site-packages\\sklearn\\utils\\_param_validation.py:95\u001b[0m, in \u001b[0;36mvalidate_parameter_constraints\u001b[1;34m(parameter_constraints, params, caller_name)\u001b[0m\n\u001b[0;32m     89\u001b[0m \u001b[38;5;28;01melse\u001b[39;00m:\n\u001b[0;32m     90\u001b[0m     constraints_str \u001b[38;5;241m=\u001b[39m (\n\u001b[0;32m     91\u001b[0m         \u001b[38;5;124mf\u001b[39m\u001b[38;5;124m\"\u001b[39m\u001b[38;5;132;01m{\u001b[39;00m\u001b[38;5;124m'\u001b[39m\u001b[38;5;124m, \u001b[39m\u001b[38;5;124m'\u001b[39m\u001b[38;5;241m.\u001b[39mjoin([\u001b[38;5;28mstr\u001b[39m(c)\u001b[38;5;250m \u001b[39m\u001b[38;5;28;01mfor\u001b[39;00m\u001b[38;5;250m \u001b[39mc\u001b[38;5;250m \u001b[39m\u001b[38;5;129;01min\u001b[39;00m\u001b[38;5;250m \u001b[39mconstraints[:\u001b[38;5;241m-\u001b[39m\u001b[38;5;241m1\u001b[39m]])\u001b[38;5;132;01m}\u001b[39;00m\u001b[38;5;124m or\u001b[39m\u001b[38;5;124m\"\u001b[39m\n\u001b[0;32m     92\u001b[0m         \u001b[38;5;124mf\u001b[39m\u001b[38;5;124m\"\u001b[39m\u001b[38;5;124m \u001b[39m\u001b[38;5;132;01m{\u001b[39;00mconstraints[\u001b[38;5;241m-\u001b[39m\u001b[38;5;241m1\u001b[39m]\u001b[38;5;132;01m}\u001b[39;00m\u001b[38;5;124m\"\u001b[39m\n\u001b[0;32m     93\u001b[0m     )\n\u001b[1;32m---> 95\u001b[0m \u001b[38;5;28;01mraise\u001b[39;00m InvalidParameterError(\n\u001b[0;32m     96\u001b[0m     \u001b[38;5;124mf\u001b[39m\u001b[38;5;124m\"\u001b[39m\u001b[38;5;124mThe \u001b[39m\u001b[38;5;132;01m{\u001b[39;00mparam_name\u001b[38;5;132;01m!r}\u001b[39;00m\u001b[38;5;124m parameter of \u001b[39m\u001b[38;5;132;01m{\u001b[39;00mcaller_name\u001b[38;5;132;01m}\u001b[39;00m\u001b[38;5;124m must be\u001b[39m\u001b[38;5;124m\"\u001b[39m\n\u001b[0;32m     97\u001b[0m     \u001b[38;5;124mf\u001b[39m\u001b[38;5;124m\"\u001b[39m\u001b[38;5;124m \u001b[39m\u001b[38;5;132;01m{\u001b[39;00mconstraints_str\u001b[38;5;132;01m}\u001b[39;00m\u001b[38;5;124m. Got \u001b[39m\u001b[38;5;132;01m{\u001b[39;00mparam_val\u001b[38;5;132;01m!r}\u001b[39;00m\u001b[38;5;124m instead.\u001b[39m\u001b[38;5;124m\"\u001b[39m\n\u001b[0;32m     98\u001b[0m )\n",
      "\u001b[1;31mInvalidParameterError\u001b[0m: The 'stop_words' parameter of CountVectorizer must be a str among {'english'}, an instance of 'list' or None. Got frozenset({71680, 51106, 117285, 36839, 51311, 102384, 68562, 104018, 3764, 49471}) instead."
     ]
    }
   ],
   "source": [
    "%%time\n",
    "print(\"RESULT FOR UNIGRAM WITHOUT CUSTOM STOP WORDS\\n\")\n",
    "feature_result_wocw = nfeature_accuracy_checker(stop_words = my_stop_words)"
   ]
  },
  {
   "cell_type": "code",
   "execution_count": 36,
   "id": "464310e2",
   "metadata": {},
   "outputs": [
    {
     "ename": "NameError",
     "evalue": "name 'my_data' is not defined",
     "output_type": "error",
     "traceback": [
      "\u001b[1;31m---------------------------------------------------------------------------\u001b[0m",
      "\u001b[1;31mNameError\u001b[0m                                 Traceback (most recent call last)",
      "Cell \u001b[1;32mIn[36], line 7\u001b[0m\n\u001b[0;32m      4\u001b[0m     \u001b[38;5;28;01mreturn\u001b[39;00m feature_result\n\u001b[0;32m      6\u001b[0m \u001b[38;5;66;03m# Usage in the main scope\u001b[39;00m\n\u001b[1;32m----> 7\u001b[0m result \u001b[38;5;241m=\u001b[39m calculate_feature_result(\u001b[43mmy_data\u001b[49m)\n\u001b[0;32m      8\u001b[0m \u001b[38;5;28mprint\u001b[39m(result)  \u001b[38;5;66;03m# This will work\u001b[39;00m\n",
      "\u001b[1;31mNameError\u001b[0m: name 'my_data' is not defined"
     ]
    }
   ],
   "source": []
  },
  {
   "cell_type": "code",
   "execution_count": 35,
   "id": "88089d08",
   "metadata": {},
   "outputs": [
    {
     "ename": "NameError",
     "evalue": "name 'feature_result_wocw' is not defined",
     "output_type": "error",
     "traceback": [
      "\u001b[1;31m---------------------------------------------------------------------------\u001b[0m",
      "\u001b[1;31mNameError\u001b[0m                                 Traceback (most recent call last)",
      "Cell \u001b[1;32mIn[35], line 5\u001b[0m\n\u001b[0;32m      3\u001b[0m feature_plot_ug \u001b[38;5;241m=\u001b[39m pd\u001b[38;5;241m.\u001b[39mDataFrame(feature_result_unigram, columns \u001b[38;5;241m=\u001b[39m [\u001b[38;5;124m'\u001b[39m\u001b[38;5;124mnfeatures\u001b[39m\u001b[38;5;124m'\u001b[39m, \u001b[38;5;124m'\u001b[39m\u001b[38;5;124mvalidation_accuracy\u001b[39m\u001b[38;5;124m'\u001b[39m, \u001b[38;5;124m'\u001b[39m\u001b[38;5;124mtrain_test_time\u001b[39m\u001b[38;5;124m'\u001b[39m])\n\u001b[0;32m      4\u001b[0m feature_plot_wstop \u001b[38;5;241m=\u001b[39m pd\u001b[38;5;241m.\u001b[39mDataFrame(feature_result_unigram_stop, columns\u001b[38;5;241m=\u001b[39m[\u001b[38;5;124m'\u001b[39m\u001b[38;5;124mnfeatures\u001b[39m\u001b[38;5;124m'\u001b[39m, \u001b[38;5;124m'\u001b[39m\u001b[38;5;124mvalidation_accuracy\u001b[39m\u001b[38;5;124m'\u001b[39m, \u001b[38;5;124m'\u001b[39m\u001b[38;5;124mtrain_test_time\u001b[39m\u001b[38;5;124m'\u001b[39m])\n\u001b[1;32m----> 5\u001b[0m feature_plot_stopcw \u001b[38;5;241m=\u001b[39m pd\u001b[38;5;241m.\u001b[39mDataFrame(\u001b[43mfeature_result_wocw\u001b[49m, columns \u001b[38;5;241m=\u001b[39m [\u001b[38;5;124m'\u001b[39m\u001b[38;5;124mnfeatures\u001b[39m\u001b[38;5;124m'\u001b[39m, \u001b[38;5;124m'\u001b[39m\u001b[38;5;124mvalidation_accuracy\u001b[39m\u001b[38;5;124m'\u001b[39m, \u001b[38;5;124m'\u001b[39m\u001b[38;5;124mtrain_test_time\u001b[39m\u001b[38;5;124m'\u001b[39m])\n\u001b[0;32m      7\u001b[0m \u001b[38;5;66;03m# Plotting without stop words\u001b[39;00m\n\u001b[0;32m      8\u001b[0m plt\u001b[38;5;241m.\u001b[39mplot(feature_plot_ug\u001b[38;5;241m.\u001b[39mnfeatures, feature_plot_ug\u001b[38;5;241m.\u001b[39mvalidation_accuracy, label\u001b[38;5;241m=\u001b[39m\u001b[38;5;124m'\u001b[39m\u001b[38;5;124mWithout Stop Words\u001b[39m\u001b[38;5;124m'\u001b[39m, marker\u001b[38;5;241m=\u001b[39m\u001b[38;5;124m'\u001b[39m\u001b[38;5;124mo\u001b[39m\u001b[38;5;124m'\u001b[39m, linestyle\u001b[38;5;241m=\u001b[39m\u001b[38;5;124m'\u001b[39m\u001b[38;5;124m-\u001b[39m\u001b[38;5;124m'\u001b[39m)\n",
      "\u001b[1;31mNameError\u001b[0m: name 'feature_result_wocw' is not defined"
     ]
    },
    {
     "data": {
      "text/plain": [
       "<Figure size 1000x800 with 0 Axes>"
      ]
     },
     "metadata": {},
     "output_type": "display_data"
    }
   ],
   "source": [
    "plt.figure(figsize=(10, 8))\n",
    "\n",
    "feature_plot_ug = pd.DataFrame(feature_result_unigram, columns = ['nfeatures', 'validation_accuracy', 'train_test_time'])\n",
    "feature_plot_wstop = pd.DataFrame(feature_result_unigram_stop, columns=['nfeatures', 'validation_accuracy', 'train_test_time'])\n",
    "feature_plot_stopcw = pd.DataFrame(feature_result_wocw, columns = ['nfeatures', 'validation_accuracy', 'train_test_time'])\n",
    "\n",
    "# Plotting without stop words\n",
    "plt.plot(feature_plot_ug.nfeatures, feature_plot_ug.validation_accuracy, label='Without Stop Words', marker='o', linestyle='-')\n",
    "\n",
    "# Plotting with stop words\n",
    "plt.plot(feature_plot_wstop.nfeatures, feature_plot_wstop.validation_accuracy, label='With Stop Words', marker='o', linestyle='-')\n",
    "\n",
    "# Plotting without custom stop words\n",
    "plt.plot(feature_plot_stopcw.nfeatures, feature_plot_stopcw.validation_accuracy, label='Without Custom Stop Words', marker='o', linestyle='-')\n",
    "\n",
    "# Adding labels and title\n",
    "plt.title('Unigram Accuracy with & without Stop Words & Without Custom Stopwords')\n",
    "plt.xlabel('Number of Features')\n",
    "plt.ylabel('Validation Accuracy')\n",
    "\n",
    "# Adding grid for better readability\n",
    "plt.grid(True, linestyle='--', alpha=0.7)\n",
    "\n",
    "# Adding legend\n",
    "plt.legend()\n",
    "\n",
    "# Adding a tight layout for better spacing\n",
    "plt.tight_layout()\n",
    "\n",
    "# Display the plot\n",
    "plt.show()"
   ]
  },
  {
   "cell_type": "markdown",
   "id": "1f527983",
   "metadata": {},
   "source": [
    "Hence, removing stop words did not improve the performance of the model. In this setting, keeping the stopwords improve the model performance."
   ]
  },
  {
   "cell_type": "markdown",
   "id": "65336434",
   "metadata": {},
   "source": [
    "<br>\n",
    "<span style=\"color: yellow; background-color: black; font-weight: bold; padding: 5px; font-size: 32px;\"> BIGRAM </span>\n",
    "</br>"
   ]
  },
  {
   "cell_type": "markdown",
   "id": "34ac655e",
   "metadata": {},
   "source": [
    "<br>\n",
    "<span style=\"color: blue; background-color: white; font-weight: bold; padding: 5px; font-size: 24px;\"> WITH STOPWORDS </span>\n",
    "</br>"
   ]
  },
  {
   "cell_type": "code",
   "execution_count": 37,
   "id": "d64b2256",
   "metadata": {},
   "outputs": [
    {
     "name": "stdout",
     "output_type": "stream",
     "text": [
      "RESULT FOR BIGRAM\n",
      "\n",
      "LogisticRegression() \n",
      "\n",
      "Validation result for 10000 features\n",
      "Null accuracy: 51.13%\n",
      "Accuracy: 79.86%\n",
      "Model is 28.73% more accurate than null accuracy\n",
      "Train and test time: 21.77s\n",
      "--------------------------------------------------\n",
      "Validation result for 20000 features\n",
      "Null accuracy: 51.13%\n",
      "Accuracy: 79.93%\n",
      "Model is 28.81% more accurate than null accuracy\n",
      "Train and test time: 26.93s\n",
      "--------------------------------------------------\n",
      "Validation result for 30000 features\n",
      "Null accuracy: 51.13%\n",
      "Accuracy: 80.29%\n",
      "Model is 29.16% more accurate than null accuracy\n",
      "Train and test time: 22.12s\n",
      "--------------------------------------------------\n",
      "Validation result for 40000 features\n",
      "Null accuracy: 51.13%\n",
      "Accuracy: 80.41%\n",
      "Model is 29.28% more accurate than null accuracy\n",
      "Train and test time: 20.42s\n",
      "--------------------------------------------------\n",
      "Validation result for 50000 features\n",
      "Null accuracy: 51.13%\n",
      "Accuracy: 80.86%\n",
      "Model is 29.73% more accurate than null accuracy\n",
      "Train and test time: 25.86s\n",
      "--------------------------------------------------\n",
      "Validation result for 60000 features\n",
      "Null accuracy: 51.13%\n",
      "Accuracy: 80.64%\n",
      "Model is 29.51% more accurate than null accuracy\n",
      "Train and test time: 29.76s\n",
      "--------------------------------------------------\n",
      "Validation result for 70000 features\n",
      "Null accuracy: 51.13%\n",
      "Accuracy: 80.64%\n",
      "Model is 29.51% more accurate than null accuracy\n",
      "Train and test time: 27.90s\n",
      "--------------------------------------------------\n",
      "Validation result for 80000 features\n",
      "Null accuracy: 51.13%\n",
      "Accuracy: 80.41%\n",
      "Model is 29.28% more accurate than null accuracy\n",
      "Train and test time: 26.08s\n",
      "--------------------------------------------------\n",
      "Validation result for 90000 features\n",
      "Null accuracy: 51.13%\n",
      "Accuracy: 80.39%\n",
      "Model is 29.26% more accurate than null accuracy\n",
      "Train and test time: 26.17s\n",
      "--------------------------------------------------\n",
      "Validation result for 100000 features\n",
      "Null accuracy: 51.13%\n",
      "Accuracy: 80.61%\n",
      "Model is 29.48% more accurate than null accuracy\n",
      "Train and test time: 26.14s\n",
      "--------------------------------------------------\n",
      "CPU times: total: 3min 22s\n",
      "Wall time: 4min 13s\n"
     ]
    },
    {
     "ename": "",
     "evalue": "",
     "output_type": "error",
     "traceback": [
      "\u001b[1;31mThe Kernel crashed while executing code in the current cell or a previous cell. \n",
      "\u001b[1;31mPlease review the code in the cell(s) to identify a possible cause of the failure. \n",
      "\u001b[1;31mClick <a href='https://aka.ms/vscodeJupyterKernelCrash'>here</a> for more info. \n",
      "\u001b[1;31mView Jupyter <a href='command:jupyter.viewOutput'>log</a> for further details."
     ]
    }
   ],
   "source": [
    "%%time\n",
    "print(\"RESULT FOR BIGRAM\\n\")\n",
    "feature_result_bg = nfeature_accuracy_checker(ngram_range=(1,2))"
   ]
  },
  {
   "cell_type": "markdown",
   "id": "4b2b8d7a",
   "metadata": {},
   "source": [
    "<br>\n",
    "<span style=\"color: yellow; background-color: black; font-weight: bold; padding: 5px; font-size: 32px;\"> TRIGRAM </span>\n",
    "</br>"
   ]
  },
  {
   "cell_type": "markdown",
   "id": "7b9730c5",
   "metadata": {},
   "source": [
    "<br>\n",
    "<span style=\"color: blue; background-color: white; font-weight: bold; padding: 5px; font-size: 24px;\"> WITH STOPWORDS </span>\n",
    "</br>"
   ]
  },
  {
   "cell_type": "code",
   "execution_count": null,
   "id": "d2f17074",
   "metadata": {},
   "outputs": [
    {
     "name": "stdout",
     "output_type": "stream",
     "text": [
      "RESULT FOR TRIGRAM\n",
      "\n",
      "LogisticRegression() \n",
      "\n",
      "Validation result for 10000 features\n"
     ]
    }
   ],
   "source": [
    "%%time\n",
    "print(\"RESULT FOR TRIGRAM\\n\")\n",
    "feature_result_tg = nfeature_accuracy_checker(ngram_range=(1,3))"
   ]
  },
  {
   "cell_type": "code",
   "execution_count": 38,
   "id": "37792d2b",
   "metadata": {},
   "outputs": [
    {
     "data": {
      "image/png": "[encoded data removed]",
      "text/plain": [
       "<Figure size 1000x800 with 1 Axes>"
      ]
     },
     "metadata": {},
     "output_type": "display_data"
    }
   ],
   "source": [
    "plt.figure(figsize=(10, 8))\n",
    "\n",
    "feature_plot_ug = pd.DataFrame(feature_result_unigram_stop, columns = ['nfeatures', 'validation_accuracy', 'train_test_time'])\n",
    "feature_plot_bg = pd.DataFrame(feature_result_bg, columns=['nfeatures', 'validation_accuracy', 'train_test_time'])\n",
    "feature_plot_tg = pd.DataFrame(feature_result_tg, columns = ['nfeatures', 'validation_accuracy', 'train_test_time'])\n",
    "\n",
    "# Plotting unigram\n",
    "plt.plot(feature_plot_ug.nfeatures, feature_plot_ug.validation_accuracy, label='Unigram', marker='o', linestyle='-', color='blue')\n",
    "\n",
    "# Plotting bigram\n",
    "plt.plot(feature_plot_bg.nfeatures, feature_plot_bg.validation_accuracy, label='Bigram', marker='s', linestyle='--', color='green')\n",
    "\n",
    "# Plotting trigram\n",
    "plt.plot(feature_plot_tg.nfeatures, feature_plot_tg.validation_accuracy, label='Trigram', marker='^', linestyle='-.', color='orange')\n",
    "\n",
    "# Adding labels and title\n",
    "plt.title('N-gram (1-3) Accuracy')\n",
    "plt.xlabel('Number of Features')\n",
    "plt.ylabel('Validation Accuracy')\n",
    "\n",
    "# Adding grid for better readability\n",
    "plt.grid(True, linestyle='--', alpha=0.7)\n",
    "\n",
    "# Adding legend\n",
    "plt.legend()\n",
    "\n",
    "# Adding a tight layout for better spacing\n",
    "plt.tight_layout()\n",
    "\n",
    "# Display the plot\n",
    "plt.show()"
   ]
  },
  {
   "cell_type": "markdown",
   "id": "0c602d7d",
   "metadata": {},
   "source": [
    "<div style=\"text-align: center; background-color: yellow; padding: 10px;\">\n",
    "    <h2 style=\"font-weight: bold;\">CLASSIFICATION REPORT</h2>\n",
    "</div>"
   ]
  },
  {
   "cell_type": "code",
   "execution_count": 39,
   "id": "9213b07c",
   "metadata": {},
   "outputs": [],
   "source": [
    "null_accuracy = 0\n",
    "def evaluate(pipeline, x_train, y_train, x_test, y_test):\n",
    "    if len(x_test[y_test==0])/len(x_test)>0.5:\n",
    "        null_accuracy = len(x_test[y_test==0])/len(x_test)\n",
    "    else:\n",
    "        null_accuracy = 1 - len(x_test[y_test==0])/len(x_test)\n",
    "    sentiment_fit = pipeline.fit(x_train, y_train)\n",
    "    y_pred = sentiment_fit.predict(x_test)\n",
    "    accuracy = accuracy_score(y_test, y_pred)\n",
    "    conmat = np.array(confusion_matrix(y_validation, tbpred, labels=[0,1]))\n",
    "    confusion = pd.DataFrame(conmat, index=['negative', 'positive'], columns=['predicted_negative', 'predicted_positive'])\n",
    "    print(\"Null accuracy: {0:.2f}%\".format(null_accuracy*100))\n",
    "    print(\"Accuracy: {0:.2f}%\".format(accuracy*100))\n",
    "    if accuracy>null_accuracy:\n",
    "        print(\"Model is {0:.2f}% more accurate than null accuracy\".format((accuracy-null_accuracy)*100))\n",
    "    elif accuracy==null_accuracy:\n",
    "        print(\"Model has the same accuracy as null accuracy\")\n",
    "    else:\n",
    "        print(\"Model is {0:.2f}% less accurate than null accuracy\".format((null_accuracy-accuracy)*100))\n",
    "    print(\"-\"*50)\n",
    "    print(\"CONFUSION MATRIX\\n\")\n",
    "    print(confusion)\n",
    "    print(\"-\"*50)\n",
    "    print(classification_report(y_test, y_pred, target_names=['negative', 'positive']))"
   ]
  },
  {
   "cell_type": "markdown",
   "id": "72bb466e",
   "metadata": {},
   "source": [
    "<br>\n",
    "<span style=\"color: lightgreen; background-color: black; font-weight: bold; padding: 5px; font-size: 24px;\"> UNIGRAM </span>\n",
    "</br>"
   ]
  },
  {
   "cell_type": "code",
   "execution_count": 40,
   "id": "687008c8",
   "metadata": {},
   "outputs": [
    {
     "name": "stdout",
     "output_type": "stream",
     "text": [
      "Null accuracy: 51.13%\n",
      "Accuracy: 79.21%\n",
      "Model is 28.08% more accurate than null accuracy\n",
      "--------------------------------------------------\n",
      "CONFUSION MATRIX\n",
      "\n",
      "          predicted_negative  predicted_positive\n",
      "negative                 654                1297\n",
      "positive                 212                1829\n",
      "--------------------------------------------------\n",
      "              precision    recall  f1-score   support\n",
      "\n",
      "    negative       0.80      0.77      0.78      1951\n",
      "    positive       0.79      0.81      0.80      2041\n",
      "\n",
      "    accuracy                           0.79      3992\n",
      "   macro avg       0.79      0.79      0.79      3992\n",
      "weighted avg       0.79      0.79      0.79      3992\n",
      "\n",
      "Wall time: 12.6 s\n"
     ]
    }
   ],
   "source": [
    "%%time\n",
    "ug_vector = CountVectorizer(max_features=100000)\n",
    "ug_pipeline = Pipeline([('vectorizer', ug_vector), ('classifier', lr)])\n",
    "evaluate(ug_pipeline, x_train, y_train, x_validation, y_validation)"
   ]
  },
  {
   "cell_type": "markdown",
   "id": "2df63c55",
   "metadata": {},
   "source": [
    "<br>\n",
    "<span style=\"color: lightgreen; background-color: black; font-weight: bold; padding: 5px; font-size: 24px;\"> BIGRAM </span>\n",
    "</br>"
   ]
  },
  {
   "cell_type": "code",
   "execution_count": 41,
   "id": "558b7875",
   "metadata": {},
   "outputs": [
    {
     "name": "stdout",
     "output_type": "stream",
     "text": [
      "Null accuracy: 51.13%\n",
      "Accuracy: 80.64%\n",
      "Model is 29.51% more accurate than null accuracy\n",
      "--------------------------------------------------\n",
      "CONFUSION MATRIX\n",
      "\n",
      "          predicted_negative  predicted_positive\n",
      "negative                 654                1297\n",
      "positive                 212                1829\n",
      "--------------------------------------------------\n",
      "              precision    recall  f1-score   support\n",
      "\n",
      "    negative       0.80      0.80      0.80      1951\n",
      "    positive       0.81      0.81      0.81      2041\n",
      "\n",
      "    accuracy                           0.81      3992\n",
      "   macro avg       0.81      0.81      0.81      3992\n",
      "weighted avg       0.81      0.81      0.81      3992\n",
      "\n",
      "Wall time: 23.2 s\n"
     ]
    }
   ],
   "source": [
    "%%time\n",
    "bg_vector = CountVectorizer(max_features=70000, ngram_range=(1,2))\n",
    "bg_pipeline = Pipeline([('vectorizer', bg_vector), ('classifier', lr)])\n",
    "evaluate(bg_pipeline, x_train, y_train, x_validation, y_validation)"
   ]
  },
  {
   "cell_type": "markdown",
   "id": "cc9fc889",
   "metadata": {},
   "source": [
    "<br>\n",
    "<span style=\"color: lightgreen; background-color: black; font-weight: bold; padding: 5px; font-size: 24px;\"> TRIGRAM </span>\n",
    "</br>"
   ]
  },
  {
   "cell_type": "code",
   "execution_count": 42,
   "id": "7aeb73de",
   "metadata": {},
   "outputs": [
    {
     "name": "stdout",
     "output_type": "stream",
     "text": [
      "Null accuracy: 51.13%\n",
      "Accuracy: 80.36%\n",
      "Model is 29.23% more accurate than null accuracy\n",
      "--------------------------------------------------\n",
      "CONFUSION MATRIX\n",
      "\n",
      "          predicted_negative  predicted_positive\n",
      "negative                 654                1297\n",
      "positive                 212                1829\n",
      "--------------------------------------------------\n",
      "              precision    recall  f1-score   support\n",
      "\n",
      "    negative       0.80      0.79      0.80      1951\n",
      "    positive       0.80      0.82      0.81      2041\n",
      "\n",
      "    accuracy                           0.80      3992\n",
      "   macro avg       0.80      0.80      0.80      3992\n",
      "weighted avg       0.80      0.80      0.80      3992\n",
      "\n",
      "Wall time: 40.7 s\n"
     ]
    }
   ],
   "source": [
    "%%time\n",
    "tg_vector = CountVectorizer(max_features=80000, ngram_range=(1,3))\n",
    "tg_pipeline = Pipeline([('vectorizer', tg_vector), ('classifier', lr)])\n",
    "evaluate(tg_pipeline, x_train, y_train, x_validation, y_validation)"
   ]
  }
 ],
 "metadata": {
  "kernelspec": {
   "display_name": "Python 3",
   "language": "python",
   "name": "python3"
  },
  "language_info": {
   "codemirror_mode": {
    "name": "ipython",
    "version": 3
   },
   "file_extension": ".py",
   "mimetype": "text/x-python",
   "name": "python",
   "nbconvert_exporter": "python",
   "pygments_lexer": "ipython3",
   "version": "3.10.11"
  }
 },
 "nbformat": 4,
 "nbformat_minor": 5
}
